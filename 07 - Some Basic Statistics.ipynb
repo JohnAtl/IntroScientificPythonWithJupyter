{
 "cells": [
  {
   "cell_type": "markdown",
   "metadata": {
    "deletable": true,
    "editable": true
   },
   "source": [
    "# Some Basic Statistics\n",
    "\n",
    "Some basic functions for variance using numpy and scipy.\n",
    "\n",
    "By the end of this file you should have seen simple examples of:\n",
    "1. Mean, standard deviation and variance\n",
    "2. Confidence intervals\n",
    "3. One-way analysis of variance (ANOVA)\n",
    "4. Student's T-test\n",
    "5. F-test\n",
    "6. Coefficient of determination\n",
    "7. Pearson's correlation coefficient\n",
    "8. Probability Distribution Functions (PDFs)\n",
    "\n",
    "Further Reading:  \n",
    "https://docs.scipy.org/doc/scipy/reference/stats.html  \n",
    "https://docs.scipy.org/doc/scipy/reference/tutorial/stats.html\n",
    "https://github.com/scipy/scipy/blob/master/scipy/stats/stats.py  \n",
    "http://www.itl.nist.gov/div898/handbook/eda/section3/eda3672.htm   \n",
    "http://www.physics.csbsju.edu/stats/t-test.html  \n",
    "https://onlinecourses.science.psu.edu/stat501/node/255  \n",
    "http://originlab.com/doc/Origin-Help/ANOVA-CRD  \n",
    "http://hamelg.blogspot.com/2015/11/python-for-data-analysis-part-22.html  "
   ]
  },
  {
   "cell_type": "code",
   "execution_count": 1,
   "metadata": {
    "collapsed": true,
    "deletable": true,
    "editable": true
   },
   "outputs": [],
   "source": [
    "import numpy as np\n",
    "from numpy.random import normal, rand\n",
    "import scipy.stats as stats\n",
    "\n",
    "import matplotlib.pyplot as plt\n",
    "%matplotlib inline"
   ]
  },
  {
   "cell_type": "markdown",
   "metadata": {
    "deletable": true,
    "editable": true
   },
   "source": [
    "### Mean, Standard Deviation and Variance\n",
    "\n",
    "These all give an initial sense of the distribution of numbers - where they are centered (mean) and how spread out they are (standard deviation and variance). \n",
    "\n",
    "Keep in mind that the variance is the square of the standard deviation."
   ]
  },
  {
   "cell_type": "code",
   "execution_count": 2,
   "metadata": {
    "collapsed": false,
    "deletable": true,
    "editable": true
   },
   "outputs": [],
   "source": [
    "nums = normal(2,3,1000)"
   ]
  },
  {
   "cell_type": "markdown",
   "metadata": {
    "deletable": true,
    "editable": true
   },
   "source": [
    "We can do these calculations manually:"
   ]
  },
  {
   "cell_type": "code",
   "execution_count": 3,
   "metadata": {
    "collapsed": false,
    "deletable": true,
    "editable": true
   },
   "outputs": [
    {
     "name": "stdout",
     "output_type": "stream",
     "text": [
      "The mean is: 2.01594\n",
      "The standard deviation (all samples, or the population) is: 3.03999\n",
      "The unbiased standard deviation (a group of samples, or a subset of the population) is: 3.04151\n",
      "The variance is: 9.24151\n"
     ]
    }
   ],
   "source": [
    "mean = (1/len(nums))*np.sum(nums)\n",
    "print('The mean is: %g' % mean)\n",
    "\n",
    "stdev = np.sqrt(1/len(nums) * np.sum((nums - mean)**2))\n",
    "print('The standard deviation (all samples, or the population) is: %g' % stdev)\n",
    "\n",
    "stdev = np.sqrt(1/(len(nums)-1) * np.sum((nums - mean)**2))\n",
    "print('The unbiased standard deviation (a group of samples, or a subset of the population) is: %g' % stdev)\n",
    "\n",
    "var = (1/len(nums)) * np.sum((nums - mean)**2)\n",
    "print('The variance is: %g' % var)"
   ]
  },
  {
   "cell_type": "markdown",
   "metadata": {
    "deletable": true,
    "editable": true
   },
   "source": [
    "Or by using built-in functions:"
   ]
  },
  {
   "cell_type": "code",
   "execution_count": 4,
   "metadata": {
    "collapsed": false,
    "deletable": true,
    "editable": true
   },
   "outputs": [
    {
     "name": "stdout",
     "output_type": "stream",
     "text": [
      "The mean is: 2.01594\n",
      "The standard deviation (all samples, or the population) is: 3.03999\n",
      "The standard deviation (a group of samples, or a subset of the population) is: 3.04151\n",
      "The variance is: 9.24151\n"
     ]
    }
   ],
   "source": [
    "mean = np.mean(nums)\n",
    "print('The mean is: %g' % mean)\n",
    "\n",
    "stdev = np.std(nums)\n",
    "print('The standard deviation (all samples, or the population) is: %g' % stdev)\n",
    "\n",
    "stdev = np.std(nums, ddof=1)\n",
    "print('The standard deviation (a group of samples, or a subset of the population) is: %g' % stdev)\n",
    "\n",
    "var = np.var(nums)\n",
    "print('The variance is: %g' % var)"
   ]
  },
  {
   "cell_type": "markdown",
   "metadata": {
    "deletable": true,
    "editable": true
   },
   "source": [
    "## Confidence Intervals\n",
    "\n",
    "How sure are we that the measurements we've taken encompass the average value? Confidence intervals can be used to communicate this point.\n",
    "\n",
    "Starting with a normally distributed set samples, we want to state with a known amount of confidence if the mean falls within the interval reported using that set of samples. \n",
    "\n",
    "We report:  \n",
    "$\\mu \\pm \\sigma_m T$  \n",
    "\n",
    "where:  \n",
    "$\\mu$ is the mean value  \n",
    "$T$ is the critical probability (t-value)  \n",
    "$\\sigma_m = \\frac{\\sigma}{\\sqrt{n}}$  is the standard error of the mean  \n",
    "$\\sigma$ is the standard deviation  \n",
    "$n$ is the number of samples    \n",
    "\n",
    "Notes:  \n",
    "  - Technically, the true definition of a confidence interval (using 95% confidence as an example) is more accurately summarized by the following:  \n",
    "  \n",
    "    **A confidence interval of 95% means that the confidence interval, if repeated with many different groups of samples, would encompass the true value 95% of the time.** This is a slight distinction: it's not that there is a 95% chance that the value is within that particular confidence interval - it's a statement that the confidence interval, if repeated, would trend towards encompassing the true value 95% of the time.  \n",
    "    \n",
    "\n",
    "  - Because we're assuming that it's a subset of the population, we're concerned with the critical probability determined with the t-distribution instead of the normal distribution. This is more accurate for lower sampling because it takes into account the degrees of freedom. Keep in mind the T- and the normal distributions converge for large sampling. \n",
    "  \n",
    "  \n",
    "  - For more information about the critical probability, see the 'Confidence Intervals from a Distribution Perspective' section near the end of this notebook. "
   ]
  },
  {
   "cell_type": "code",
   "execution_count": 5,
   "metadata": {
    "collapsed": true,
    "deletable": true,
    "editable": true
   },
   "outputs": [],
   "source": [
    "# Start with normally distributed group of samples\n",
    "grp1 = normal(100,5,10000)"
   ]
  },
  {
   "cell_type": "code",
   "execution_count": 6,
   "metadata": {
    "collapsed": false,
    "deletable": true,
    "editable": true
   },
   "outputs": [
    {
     "name": "stdout",
     "output_type": "stream",
     "text": [
      "The value is 100 ± 0.0986 (95% confidence interval)\n",
      "or a range of 99.8867 to 100.084\n"
     ]
    }
   ],
   "source": [
    "# Compute the standard error of the mean\n",
    "grp1_avg = np.mean(grp1)\n",
    "grp1_std = np.std(grp1, ddof=1)\n",
    "standard_err = grp1_std/np.sqrt(np.size(grp1))\n",
    "\n",
    "#Determine the critical probability that corresponds to 1/2 of the 95% confidence interval (see Distributions)\n",
    "conf_int = 0.95\n",
    "dof = len(grp1)-1 # We use the degrees of freedom of n-1 because it's a sample of the population\n",
    "T_val = stats.t.ppf(1-(1-conf_int)/2, dof) \n",
    "\n",
    "# The average value, reported with 95% confidence is:\n",
    "conf_int = T_val*standard_err\n",
    "lower_int = grp1_avg - T_val*standard_err\n",
    "upper_int = grp1_avg + T_val*standard_err\n",
    "\n",
    "print(\"The value is %0.3g ± %0.3g (95%% confidence interval)\" % ( grp1_avg, conf_int))\n",
    "print(\"or a range of %0.6g to %0.6g\" % ( lower_int,upper_int ))"
   ]
  },
  {
   "cell_type": "markdown",
   "metadata": {
    "deletable": true,
    "editable": true
   },
   "source": [
    "We can also use the built in function for determining the 95% confidence interval:"
   ]
  },
  {
   "cell_type": "code",
   "execution_count": 7,
   "metadata": {
    "collapsed": false,
    "deletable": true,
    "editable": true
   },
   "outputs": [
    {
     "name": "stdout",
     "output_type": "stream",
     "text": [
      "A range of 99.8867 to 100.084\n"
     ]
    }
   ],
   "source": [
    "lower_int, upper_int = stats.t.interval(0.95, len(grp1)-1, loc=np.mean(grp1), scale=stats.sem(grp1))\n",
    "print(\"A range of %0.6g to %0.6g\" % (lower_int, upper_int))"
   ]
  },
  {
   "cell_type": "markdown",
   "metadata": {
    "deletable": true,
    "editable": true
   },
   "source": [
    "## One-Way Analysis of Variance ANOVA \n",
    "\n",
    "Here, we're looking to determine multiple groups of samples are from the same population or from different populations, using a single factor (independent variable) that affects the mean value of the group.\n",
    "\n",
    "Keep in mind that the samples should be continuous and independent."
   ]
  },
  {
   "cell_type": "markdown",
   "metadata": {
    "deletable": true,
    "editable": true
   },
   "source": [
    "### Two groups: Student's T-test\n",
    "\n",
    "**The goal of the Student's t-test is to determine if one group of samples actually comes from a different population than another group of samples, or if they are both from the same population.** This comes up frequently when we want to determine if the data we're collected somehow differs from another data set (i.e. we've observed something change, or observe something different from what someone else claims). \n",
    "\n",
    "**To do this, first calculate a t-value, and use this t-value (to sample the t-distribution) to determine a measure of how similar the two groups of samples are (aka, p-value).** \n",
    "\n",
    "**A p-value below some threshold (i.e. 0.05) means that there is a significant difference between the groups of samples.** The p-value represents the chance that the difference between the groups of samples is observed purely by chance. As the t-value increases, the p-value decreases (decreasing chances that the samples are from the same distribution). \n",
    "\n",
    "Often, this is described in terms of the null hypothesis, or the claim that there is 'null difference' between the two groups of samples. In other words, can the null hypothesis (there is no difference between the two populations) be rejected? The goal is to determine if any difference is due to sampling, experimental, etc. error or if the means really are different.\n",
    "\n",
    "This is intended for normally distributed, continuous distributions.\n",
    "\n",
    "Fun fact: the 'student' is actually William S. Gossett, a brewmaster who worked at the Guinness brewery. "
   ]
  },
  {
   "cell_type": "code",
   "execution_count": 8,
   "metadata": {
    "collapsed": true,
    "deletable": true,
    "editable": true
   },
   "outputs": [],
   "source": [
    "from scipy.stats import ttest_ind, ttest_rel"
   ]
  },
  {
   "cell_type": "code",
   "execution_count": 9,
   "metadata": {
    "collapsed": false,
    "deletable": true,
    "editable": true
   },
   "outputs": [],
   "source": [
    "# Three similar groups of data\n",
    "grp1 = normal(45,23,5)\n",
    "grp2 = normal(45,23,5)\n",
    "grp3 = normal(10,12,5)"
   ]
  },
  {
   "cell_type": "markdown",
   "metadata": {
    "deletable": true,
    "editable": true
   },
   "source": [
    "This can be done by hand, integrating the student t-distribution cumulative density fuction directly. Z-tables, tables of precalculated cumulate density function values, may also be used but aren't discussed here. Below, the survival function (`stats.t(degFreedom).sf`, or '1 - cumulant density function') is used to sample the t-distribution. "
   ]
  },
  {
   "cell_type": "markdown",
   "metadata": {
    "deletable": true,
    "editable": true
   },
   "source": [
    "#### Equal sample sizes, equal variances\n",
    "$t = \\frac{\\bar{X}_1 - \\bar{X}_2}{s_{pool}\\sqrt{\\frac{2}{n}}}$  \n",
    "where:  \n",
    "$s_{pool} = \\sqrt{\\frac{s_1^2 + s_2^2}{2}}$\n",
    "\n",
    "\n",
    "$n$ is the number of samples  \n",
    "$\\bar{X}$ is the expectation value  \n",
    "$s_1^2 = \\frac{1}{n-1} \\sum^{n}_{1} (x_i-\\bar{X})^2$ \n",
    "\n",
    "\n",
    "#### Equal or unequal sample sizes, equal variances  \n",
    "$t = \\frac{\\bar{X}_1 - \\bar{X}_2}{s_{pool}\\sqrt{\\frac{1}{n_1} + \\frac{1}{n_2}}}$  \n",
    "where:  \n",
    "$s_{pool} = \\sqrt{\\frac{(n_1 -1) s_1^2 + (n_2 -1) s_2^2}{n_1 + n_2 -1}}$\n",
    "\n",
    "#### Equal or unequal sample sizes, unequal variances\n",
    "$t = \\frac{\\bar{X}_1 - \\bar{X}_2}{s_\\delta}$  \n",
    "where:  \n",
    "$s_\\delta = \\sqrt{\\frac{s_1^2}{n_1} + \\frac{s_2^2}{n_2}}$  \n",
    " \n",
    " \n",
    " "
   ]
  },
  {
   "cell_type": "code",
   "execution_count": 10,
   "metadata": {
    "collapsed": false,
    "deletable": true,
    "editable": true
   },
   "outputs": [
    {
     "name": "stdout",
     "output_type": "stream",
     "text": [
      " t = -0.422997 p = 0.685461\n",
      " t = -0.422997 p = 0.685461\n",
      " t = 4.19672 p = 0.0105073\n"
     ]
    }
   ],
   "source": [
    "grp1_siz = grp1.size\n",
    "grp1_dof = grp1_siz - 1\n",
    "grp1_avg = np.sum(grp1)/grp1_siz\n",
    "grp1_var = 1/(grp1_dof)* np.sum((grp1 - grp1_avg)**2)\n",
    "\n",
    "grp2_siz = grp2.size\n",
    "grp2_dof = grp2_siz - 1\n",
    "grp2_avg = np.sum(grp2)/grp2_siz\n",
    "grp2_var = 1/(grp2_dof)* np.sum((grp2 - grp2_avg)**2)\n",
    "\n",
    "grp3_siz = np.size(grp3)\n",
    "grp3_avg = np.sum(grp3)/grp3_siz\n",
    "grp3_dof = grp3_siz - 1\n",
    "grp3_var = 1/(grp3_dof)* np.sum((grp3 - grp3_avg)**2)\n",
    "\n",
    "# Calculate the student's T and p values: \n",
    "\n",
    "# Equal sample size, assumed equal variance:\n",
    "pooled_var = np.sqrt( (grp1_var + grp2_var)/2)\n",
    "t = (grp1_avg - grp2_avg)/(pooled_var*np.sqrt(2/grp1.size))\n",
    "\n",
    "# Calculate P value:\n",
    "degFreedom = (grp1_var/grp1_siz + grp2_var/grp2_siz)**2/((grp1_var/grp1_siz)**2/grp1_dof + (grp2_var/grp2_siz)**2/grp2_dof)\n",
    "p = 2*stats.t(degFreedom).sf(np.abs(t)) #we want 2x the area under the curve from neg infinity to the neg t value\n",
    "print(\" t = %g p = %g\" % (t, p) )\n",
    "\n",
    "# Equal or unequal sample size, assumed equal variance:\n",
    "pooled_var = np.sqrt( (grp1_dof*grp1_var+grp2_dof*grp2_var)/(grp1_siz+grp2_siz-2) )\n",
    "t = (grp1_avg - grp2_avg)/(pooled_var*np.sqrt(1/grp1_siz + 1/grp2_siz))\n",
    "# Calculate P value:\n",
    "degFreedom = (grp1_var/grp1_siz + grp2_var/grp2_siz)**2/((grp1_var/grp1_siz)**2/grp1_dof + (grp2_var/grp2_siz)**2/grp2_dof)\n",
    "p = 2*stats.t(degFreedom).sf(np.abs(t))\n",
    "print(\" t = %g p = %g\" % (t, p))\n",
    "\n",
    "# Equal or unequal sample size, assumed unequal variance:\n",
    "var = np.sqrt( grp1_var/grp1_siz + grp3_var/grp3_siz )\n",
    "t = (grp1_avg - grp3_avg)/var\n",
    "# Calculate P value:\n",
    "degFreedom = (grp1_var/grp1_siz + grp3_var/grp3_siz)**2/((grp1_var/grp1_siz)**2/grp1_dof + (grp3_var/grp3_siz)**2/grp3_dof)\n",
    "p = 2*stats.t(degFreedom).sf(np.abs(t))\n",
    "print(\" t = %g p = %g\" % (t, p))"
   ]
  },
  {
   "cell_type": "markdown",
   "metadata": {
    "deletable": true,
    "editable": true
   },
   "source": [
    "Or use built-in functions:"
   ]
  },
  {
   "cell_type": "code",
   "execution_count": 11,
   "metadata": {
    "collapsed": false,
    "deletable": true,
    "editable": true
   },
   "outputs": [
    {
     "name": "stdout",
     "output_type": "stream",
     "text": [
      "ttest_rel   eq_var: t = -0.441842  p = 0.68144\n",
      "ttest_ind   eq_var: t = -0.422997  p = 0.683439\n",
      "ttest_ind uneq_var: t = 4.19672  p = 0.0105073\n"
     ]
    }
   ],
   "source": [
    "# Equal sample size, assumed equal variance:\n",
    "t, p = ttest_rel(grp1, grp2)\n",
    "print(\"ttest_rel   eq_var: t = %g  p = %g\" % (t, p))\n",
    "\n",
    "# Equal or unequal sample size, assumed equal variance:\n",
    "t, p = ttest_ind(grp1, grp2, equal_var=True)\n",
    "print(\"ttest_ind   eq_var: t = %g  p = %g\" % (t, p))\n",
    "\n",
    "#Note that the first and second t-tests converge as sampling approaches infinity.\n",
    "\n",
    "# Equal or unequal sample size, assumed unequal variance:\n",
    "t, p = ttest_ind(grp1, grp3, equal_var=False)\n",
    "print(\"ttest_ind uneq_var: t = %g  p = %g\" % (t, p))"
   ]
  },
  {
   "cell_type": "markdown",
   "metadata": {
    "deletable": true,
    "editable": true
   },
   "source": [
    "If the p-value is smaller than the threshold (i.e. 0.01 or 0.05, etc.) then the null hypothesis can be rejected. Note that the first and second tests converge as sampling approaches infinity."
   ]
  },
  {
   "cell_type": "markdown",
   "metadata": {
    "deletable": true,
    "editable": true
   },
   "source": [
    "### >2 Groups: One-way ANOVA F-test statistic\n",
    "\n",
    "The F-test can be thought of as the generalized form of the t-test for multiple groups of samples. **A popular use of the F-test is to determine if one group of samples actually comes from a different population than all other groups, or if all are from the same population.** While there are several different F-tests, the focus here is on a test to determine if the means of a given set of normally distributed values are equal. \n",
    "\n",
    "**To do this, first calculate a F-statistic, and use this F-statistic (to sample the F-distribution) to find the chance that all of the groups of samples are from the same population (aka, p-value).** \n",
    "\n",
    "**A p-value below some threshold (i.e. 0.05) means that there is a significant difference between the groups of samples.** The p-value represents the chance that the difference between the groups of samples is observed purely by chance. As the F-statistic (ratio of variation between sample means to the variation within the samples) increases, the p-value decreases (decreasing chances that the samples are from the same distribution).\n",
    "\n",
    "Often, this is described in terms of the null hypothesis - or, the hypothesis that there is null difference between the groups of samples. In other words, can the null hypothesis (there is no difference between the populations) be rejected? The goal is to determine if any difference is due to sampling, experimental, etc. error or if the means really are different. \n",
    "\n",
    "This is intended for normally distributed, continuous distributions."
   ]
  },
  {
   "cell_type": "code",
   "execution_count": 12,
   "metadata": {
    "collapsed": false,
    "deletable": true,
    "editable": true
   },
   "outputs": [],
   "source": [
    "grp1 = normal(45,23,500)\n",
    "grp2 = normal(45,23,500)\n",
    "grp3 = normal(10,12,500)"
   ]
  },
  {
   "cell_type": "markdown",
   "metadata": {
    "deletable": true,
    "editable": true
   },
   "source": [
    "Here, we use:\n",
    "\n",
    "$F_{stat} = \\frac{\\text{between set variability}}{\\text{within set variability}}$  \n",
    "\n",
    "where:  \n",
    "between set variability = $\\sum^{K}_{i=1} \\frac{n_i(\\bar{X_i} -\\bar{X})^2}{K - 1}$  \n",
    "within set variability = $\\sum^{K}_{i=1} \\sum^{n_i}_{j=1} \\frac{(X_{ij} -\\bar{X_i})^2}{N - K}$  \n",
    "\n",
    "and:  \n",
    "$\\bar{X}$ is the mean of all data  \n",
    "$\\bar{X_i}$ is the mean of set $i$  \n",
    "$K$ is the number of sets  \n",
    "$N$ is the overall sample size  "
   ]
  },
  {
   "cell_type": "code",
   "execution_count": 13,
   "metadata": {
    "collapsed": false,
    "deletable": true,
    "editable": true
   },
   "outputs": [
    {
     "name": "stdout",
     "output_type": "stream",
     "text": [
      "F-statistic is 511.656 p is 4.62379e-170\n"
     ]
    }
   ],
   "source": [
    "#import scipy.special as special\n",
    "all_grps = [grp1, grp2, grp3]\n",
    "\n",
    "num_grps = float(len(all_grps))\n",
    "alldata = np.concatenate(all_grps)\n",
    "alldata_avg = np.mean(alldata)\n",
    "alldata_siz = np.size(alldata)\n",
    "\n",
    "bsv = 0\n",
    "for a in all_grps:\n",
    "    bsv += (np.size(a)* (np.mean(a)-alldata_avg)**2)/(num_grps-1)\n",
    "\n",
    "wsv = 0\n",
    "for a in all_grps:\n",
    "    for i in a:\n",
    "        wsv += (i - np.mean(a))**2/(alldata_siz - num_grps)\n",
    "\n",
    "f_stat = bsv/wsv\n",
    "\n",
    "prob = stats.f(num_grps-1, alldata_siz-num_grps).sf(np.abs(f_stat))\n",
    "\n",
    "print('F-statistic is %g p is %g' % (f_stat, prob))"
   ]
  },
  {
   "cell_type": "code",
   "execution_count": 14,
   "metadata": {
    "collapsed": false,
    "deletable": true,
    "editable": true
   },
   "outputs": [
    {
     "name": "stdout",
     "output_type": "stream",
     "text": [
      "F-statistic is 511.656 p is 4.62379e-170\n"
     ]
    }
   ],
   "source": [
    "f, p = stats.f_oneway(grp1,grp2,grp3)\n",
    "\n",
    "print('F-statistic is %g p is %g' % (f, p))"
   ]
  },
  {
   "cell_type": "markdown",
   "metadata": {
    "deletable": true,
    "editable": true
   },
   "source": [
    "### Coefficient of Determination ($R^2$)\n",
    "\n",
    "**The coefficient of determination is a measure of how well one group of samples (i.e. measured ) matches another (i.e. the model).** This is accomplished via the propotion of total variation of outcomes explained by the model."
   ]
  },
  {
   "cell_type": "code",
   "execution_count": 15,
   "metadata": {
    "collapsed": false,
    "deletable": true,
    "editable": true
   },
   "outputs": [
    {
     "data": {
      "image/png": "[encoded data removed]",
      "text/plain": [
       "<matplotlib.figure.Figure at 0xa215b88e48>"
      ]
     },
     "metadata": {},
     "output_type": "display_data"
    }
   ],
   "source": [
    "from scipy.optimize import curve_fit\n",
    "\n",
    "# Create Arbitrary Function \n",
    "x_vals = np.arange(0,100)\n",
    "y_vals = x_vals**2 + normal(0,3000,np.size(x_vals))\n",
    "\n",
    "# Fit and create fit line\n",
    "def func(x_vals, B, C):\n",
    "    return x_vals**B + C\n",
    "opt, cov = curve_fit(func, x_vals, y_vals)\n",
    "x_fitted = np.linspace(0, max(x_vals), 100)\n",
    "y_fitted = func(x_fitted, *opt)\n",
    "\n",
    "# Show fit\n",
    "plt.scatter(x_vals, y_vals)\n",
    "plt.plot(x_fitted, y_fitted, color='red')\n",
    "plt.show()"
   ]
  },
  {
   "cell_type": "markdown",
   "metadata": {
    "deletable": true,
    "editable": true
   },
   "source": [
    "Compute by hand:\n",
    "\n",
    "\n",
    "$R^2 = \\frac{SS_{regr}}{SS_{total}}$  \n",
    "\n",
    "where:  \n",
    "$SS_{regr} = \\sum^{n}_{1} (\\hat{x_i}-\\bar{X})^2$  \n",
    "$SS_{total} = \\sum^{n}_{1} (x_i-\\bar{X})^2$  \n",
    "\n",
    "and:  \n",
    "$\\hat{x_i}$ is the fitted value  \n",
    "$\\bar{X}$ is the average value of X  \n",
    "$x_i$ is the measured value of x  "
   ]
  },
  {
   "cell_type": "code",
   "execution_count": 16,
   "metadata": {
    "collapsed": false,
    "deletable": true,
    "editable": true
   },
   "outputs": [
    {
     "name": "stdout",
     "output_type": "stream",
     "text": [
      "R squared is: 0.63877\n"
     ]
    }
   ],
   "source": [
    "y_avg = np.mean(y_vals)\n",
    "y_fit = func(x_vals, *opt)\n",
    "\n",
    "SSregr  = np.sum( (y_fit  - y_avg )**2 )\n",
    "SSerror = np.sum( (y_vals - y_fit )**2 )\n",
    "SStotal = np.sum( (y_vals - y_avg )**2 )\n",
    "\n",
    "Rsq = SSregr/SStotal\n",
    "print('R squared is: %g' % Rsq)"
   ]
  },
  {
   "cell_type": "markdown",
   "metadata": {
    "deletable": true,
    "editable": true
   },
   "source": [
    "### Pearson's correlation coefficient\n",
    "\n",
    "**For two sets of data, how correlated are the two, on a scale of -1 to 1?** A simple calculation is used to check if the two groups of samples are correlated. \n",
    "\n",
    "**A p-value for the Pearson's correlation coefficient can also be determined**, indicating the propability of an uncorrelated system producing data that has a Pearson correlation at least as extreme (not reliable for small groups of samples).\n",
    "\n",
    "Keep in mind that the correlation coefficient is defined for sets of the same size."
   ]
  },
  {
   "cell_type": "code",
   "execution_count": 17,
   "metadata": {
    "collapsed": false,
    "deletable": true,
    "editable": true
   },
   "outputs": [],
   "source": [
    "from scipy.stats import pearsonr"
   ]
  },
  {
   "cell_type": "code",
   "execution_count": 18,
   "metadata": {
    "collapsed": false,
    "deletable": true,
    "editable": true
   },
   "outputs": [
    {
     "data": {
      "image/png": "[encoded data removed]",
      "text/plain": [
       "<matplotlib.figure.Figure at 0xa215b88390>"
      ]
     },
     "metadata": {},
     "output_type": "display_data"
    }
   ],
   "source": [
    "grp1 = list(range(0,5))\n",
    "grp2 = grp1+normal(0,1,np.size(grp1))\n",
    "\n",
    "plt.scatter(grp1, grp1)\n",
    "plt.scatter(grp1, grp2)\n",
    "plt.show()"
   ]
  },
  {
   "cell_type": "markdown",
   "metadata": {
    "deletable": true,
    "editable": true
   },
   "source": [
    "Again we can do this by hand:\n",
    "\n",
    "$\\rho = \\frac{ \\sum^{n}_{1} (1/n) (X_1 - \\bar{X}_1) (X_2 - \\bar{X}_2)}{s_1^2 s_2^2}$  \n",
    "\n",
    "The p value can be determined by converting $\\rho$ to a student's t and then determining the area under the distribution function:\n",
    "\n",
    "$t_{conv} = \\frac{\\rho}{\\sqrt{( 1-\\rho^2) / (n-2)}} $\n"
   ]
  },
  {
   "cell_type": "code",
   "execution_count": 19,
   "metadata": {
    "collapsed": false,
    "deletable": true,
    "editable": true
   },
   "outputs": [
    {
     "name": "stdout",
     "output_type": "stream",
     "text": [
      "pearson_r = 0.83661  p = 0.0773094\n"
     ]
    }
   ],
   "source": [
    "grp1_siz = np.size(grp1)\n",
    "grp1_avg = np.sum(grp1)/grp1_siz\n",
    "grp1_std = np.sqrt((1/grp1_siz) * np.sum((grp1 - grp1_avg)**2)) \n",
    "\n",
    "grp2_siz = np.size(grp2)\n",
    "grp2_avg = np.sum(grp2)/grp2_siz\n",
    "grp2_std = np.sqrt((1/grp2_siz) * np.sum((grp2 - grp2_avg)**2)) \n",
    "\n",
    "dof = grp1_siz - 2\n",
    "\n",
    "\n",
    "# Note that the size of the two samples must be the same\n",
    "pearson_r = np.sum( 1/grp1_siz*(grp1 - grp1_avg)*(grp2 - grp2_avg) ) / (grp1_std * grp2_std)\n",
    "\n",
    "t_conv = pearson_r/np.sqrt( (1 - pearson_r**2)/(grp1_siz - 2) ) # convert to student's t value\n",
    "p = 2*stats.t(dof).sf(np.abs(t_conv))\n",
    "\n",
    "print(\"pearson_r = %g  p = %g\" % (pearson_r, p))"
   ]
  },
  {
   "cell_type": "markdown",
   "metadata": {
    "deletable": true,
    "editable": true
   },
   "source": [
    "Or use built in functions:"
   ]
  },
  {
   "cell_type": "code",
   "execution_count": 20,
   "metadata": {
    "collapsed": false,
    "deletable": true,
    "editable": true
   },
   "outputs": [
    {
     "name": "stdout",
     "output_type": "stream",
     "text": [
      "pearson_r = 0.83661  p = 0.0773094\n"
     ]
    }
   ],
   "source": [
    "r,p = pearsonr(grp1,grp2)\n",
    "\n",
    "print(\"pearson_r = %g  p = %g\" % (r, p))"
   ]
  },
  {
   "cell_type": "markdown",
   "metadata": {
    "deletable": true,
    "editable": true
   },
   "source": [
    "### Distributions\n",
    "\n",
    "**Distribution functions can be thought of as the probability of measuring the a particular sample value.** To get a better picture of how frequently a type of randomly distributed variable should be measured in theory, we can use the analytical distribution function. "
   ]
  },
  {
   "cell_type": "markdown",
   "metadata": {
    "deletable": true,
    "editable": true
   },
   "source": [
    "For example, perhaps the most well known distribution is the Gaussian, Normal, or Bell-Curve Distribution. This is from a set of gaussian distributed random numbers. We can generate a lot of these numbers and plot the frequency of each number within a set of 'bins':"
   ]
  },
  {
   "cell_type": "code",
   "execution_count": 21,
   "metadata": {
    "collapsed": false,
    "deletable": true,
    "editable": true
   },
   "outputs": [
    {
     "data": {
      "image/png": "[encoded data removed]",
      "text/plain": [
       "<matplotlib.figure.Figure at 0xa21a771198>"
      ]
     },
     "metadata": {},
     "output_type": "display_data"
    }
   ],
   "source": [
    "num_samples = 10000\n",
    "span = 10\n",
    "rand_gen = normal(0,1,num_samples)        # Generate num_sample numbers\n",
    "bins = np.linspace(-span/2,span/2,num=100)\n",
    "histogram = np.histogram(rand_gen,bins);  # Use histogram to get distribution\n",
    "\n",
    "X = histogram[1][:-1]\n",
    "Y = histogram[0]\n",
    "plt.scatter(X,Y, label=\"Sample Frequency\")\n",
    "plt.legend(loc='best')\n",
    "plt.title('Scatter Plot')\n",
    "plt.show()"
   ]
  },
  {
   "cell_type": "markdown",
   "metadata": {
    "deletable": true,
    "editable": true
   },
   "source": [
    "The probability distribution function (PDF), is a function that represents the probability of obtaining a particular value for a population that follows that particular distribution.  \n",
    "\n",
    "Using a conversion factor, it's clear that the two overlap:"
   ]
  },
  {
   "cell_type": "code",
   "execution_count": 22,
   "metadata": {
    "collapsed": false,
    "deletable": true,
    "editable": true
   },
   "outputs": [
    {
     "data": {
      "image/png": "[encoded data removed]",
      "text/plain": [
       "<matplotlib.figure.Figure at 0xa215b88cc0>"
      ]
     },
     "metadata": {},
     "output_type": "display_data"
    }
   ],
   "source": [
    "Y_pdf = stats.norm.pdf(X)                 # PDF function applied to the X values\n",
    "conv_factor = len(X)/(span * num_samples) # Use a normalization factor to demonstrate the two are overlapped\n",
    "plt.scatter(X,Y*conv_factor, label=\"Sample Frequency\")\n",
    "plt.plot(X,Y_pdf, color='red', label=\"Prob. Dist. Func.\")\n",
    "plt.legend(loc='best')\n",
    "plt.show()"
   ]
  },
  {
   "cell_type": "markdown",
   "metadata": {
    "deletable": true,
    "editable": true
   },
   "source": [
    "A common use of distributions is to determine the chance of measuring a value of at least some amount. Instead of looking at the probability of obtaining exactly a value, we can ask: what is the probability of obtaining somthing at least as large?\n",
    "\n",
    "All we need is the integration of the PDF, known as the cumulative distribution function (CDF), as we're really looking for the area under the PDF up to a certain point.\n",
    "\n",
    "Continuing our example:"
   ]
  },
  {
   "cell_type": "code",
   "execution_count": 23,
   "metadata": {
    "collapsed": false,
    "deletable": true,
    "editable": true
   },
   "outputs": [
    {
     "data": {
      "image/png": "[encoded data removed]",
      "text/plain": [
       "<matplotlib.figure.Figure at 0xa21a70f0b8>"
      ]
     },
     "metadata": {},
     "output_type": "display_data"
    }
   ],
   "source": [
    "X_dof = np.size(X) - 1\n",
    "Y_pdf = stats.norm.pdf(X) \n",
    "Y_cdf = stats.norm.cdf(X) \n",
    "\n",
    "plt.plot(X,Y_pdf, color='red', label=\"Prob. Dist. Func.\")\n",
    "plt.plot(X,Y_cdf, color='blue', label=\"Cumul. Dist. Func.\")\n",
    "plt.legend(loc='best')\n",
    "plt.show()"
   ]
  },
  {
   "cell_type": "markdown",
   "metadata": {
    "deletable": true,
    "editable": true
   },
   "source": [
    "For those that are wondering, the CDF is actually less than the PDF at a certain point because it's scaled such that the maximum value is one. Keep in mind the PDF is scaled such that the area beneath it is one. For more information, look into the integral of the PDF.\n",
    "\n",
    "We use the CDF to determine the percent chance of obtaining something at least as large. I.e. what is the percent chance of getting at least 2?"
   ]
  },
  {
   "cell_type": "code",
   "execution_count": 24,
   "metadata": {
    "collapsed": false,
    "deletable": true,
    "editable": true
   },
   "outputs": [
    {
     "data": {
      "text/plain": [
       "0.97724986805182079"
      ]
     },
     "execution_count": 24,
     "metadata": {},
     "output_type": "execute_result"
    }
   ],
   "source": [
    "stats.norm.cdf(2)"
   ]
  },
  {
   "cell_type": "markdown",
   "metadata": {
    "deletable": true,
    "editable": true
   },
   "source": [
    "### PDF of Students' T-distribution\n",
    "\n",
    "This doesn't seem that interesting until we consider the distributions used in the ANOVA analysis. Here we use the student t-distribution, which is extremely similar to the normal distribution except that it incorporates the fact that we often use a subset of the population (and thus degrees of freedom = n-1) :"
   ]
  },
  {
   "cell_type": "code",
   "execution_count": 25,
   "metadata": {
    "collapsed": false,
    "deletable": true,
    "editable": true
   },
   "outputs": [
    {
     "data": {
      "image/png": "[encoded data removed]",
      "text/plain": [
       "<matplotlib.figure.Figure at 0xa21a97b780>"
      ]
     },
     "metadata": {},
     "output_type": "display_data"
    }
   ],
   "source": [
    "dof = np.size(X) - 1\n",
    "Y_t_pdf = stats.t(dof).pdf(X)\n",
    "Y_t_cdf = stats.t(dof).cdf(X) \n",
    "\n",
    "plt.plot(X, Y_t_pdf, color='red', label=\"Prob. Dist. Func.\")\n",
    "plt.plot(X, Y_t_cdf, color='blue', label=\"Cumul. Dist. Func.\")\n",
    "plt.legend(loc='best')\n",
    "plt.show()"
   ]
  },
  {
   "cell_type": "markdown",
   "metadata": {
    "deletable": true,
    "editable": true
   },
   "source": [
    "Let's say our t value is: -1.47254. For the p value of the t-test (two-tailed), we're concerned with getting the the value under the two sides of the distribution. Here we're ignoring the sign of the t value and treating it as a negative value for a zero-mean t-distribution probability distribution function.\n",
    "\n",
    "For the two-tailed p value on a t-test:"
   ]
  },
  {
   "cell_type": "code",
   "execution_count": 26,
   "metadata": {
    "collapsed": false,
    "deletable": true,
    "editable": true
   },
   "outputs": [
    {
     "data": {
      "image/png": "[encoded data removed]",
      "text/plain": [
       "<matplotlib.figure.Figure at 0xa21a97b3c8>"
      ]
     },
     "metadata": {},
     "output_type": "display_data"
    }
   ],
   "source": [
    "t = -1.47254\n",
    "\n",
    "# Use CDF to determine probabilities\n",
    "left_prob    = stats.t(dof).cdf(-np.abs(t))     \n",
    "right_prob   = stats.t(dof).sf(np.abs(t)) # The survival function is 1-CDF\n",
    "between_prob = 1-(left_prob+right_prob)\n",
    "\n",
    "# Plot t-distribution, highlighting the different plot areas\n",
    "left_ind    = X <= -np.abs(t)\n",
    "right_ind   = X >= np.abs(t)\n",
    "between_ind = (X > -np.abs(t)) & ( X < np.abs(t))\n",
    "\n",
    "plt.fill_between(X[left_ind],stats.t(dof).pdf(X[left_ind]), facecolor='red')\n",
    "plt.fill_between(X[right_ind],stats.t(dof).pdf(X[right_ind]), facecolor='red')\n",
    "plt.fill_between(X[between_ind],stats.t(dof).pdf(X[between_ind]),facecolor='deepskyblue')\n",
    "\n",
    "# Label the plot areas\n",
    "plt.text(x=1.7*t,y=0.04, s='%0.3g' % left_prob)\n",
    "plt.text(x=-0.4,y=0.1,s='%0.3g' % between_prob)\n",
    "plt.text(x=1.1*-t,y=0.04, s='%0.3g' % right_prob)\n",
    "plt.show()"
   ]
  },
  {
   "cell_type": "markdown",
   "metadata": {
    "deletable": true,
    "editable": true
   },
   "source": [
    "The two-tailed test (i.e. including both sides) is simply 2x the value of the area of one of the sides:"
   ]
  },
  {
   "cell_type": "code",
   "execution_count": 27,
   "metadata": {
    "collapsed": false,
    "deletable": true,
    "editable": true
   },
   "outputs": [
    {
     "name": "stdout",
     "output_type": "stream",
     "text": [
      "0.14408\n"
     ]
    }
   ],
   "source": [
    "p = 2*stats.t(dof).sf(np.abs(t))\n",
    "print(\"%g\" % p)"
   ]
  },
  {
   "cell_type": "markdown",
   "metadata": {
    "deletable": true,
    "editable": true
   },
   "source": [
    "## Confidence Intervals from a Distribution Perspective \n",
    "\n",
    "This is where the critical probability (t-value) for the confidence interval comes from. ** Working backwards, we're interested the value of the probability distribution function that, when sampled, encompasses $\\frac{1}{2}$ of the confidence interval (i.e. 95%) area under the function.** \n",
    "\n",
    "To do so, 1/2 of the confidence interval on each side of the distribution is removed, and the corresponding t-value is determined."
   ]
  },
  {
   "cell_type": "code",
   "execution_count": 29,
   "metadata": {
    "collapsed": false,
    "deletable": true,
    "editable": true
   },
   "outputs": [
    {
     "data": {
      "image/png": "[encoded data removed]",
      "text/plain": [
       "<matplotlib.figure.Figure at 0xa21a974550>"
      ]
     },
     "metadata": {},
     "output_type": "display_data"
    },
    {
     "name": "stdout",
     "output_type": "stream",
     "text": [
      "The t_value that can be used in the 95 percent confidence interval is: 1.9602\n"
     ]
    }
   ],
   "source": [
    "conf_int = 0.95  \n",
    "\n",
    "# We use the t-distribution in lieu of the normal distribution because the samples are a subset of the population \n",
    "# the inverse of the CDF for the normal distribution is known as the percent point function\n",
    "t_value = stats.t.ppf(1-(1-conf_int)/2,dof)\n",
    "\n",
    "# Use CDF to check that probabilities are correct\n",
    "left_prob    = stats.t.cdf(-t_value, dof)     \n",
    "right_prob   = stats.t.sf(t_value, dof) # The survival function is 1-CDF\n",
    "between_prob = 1-(left_prob+right_prob)\n",
    "\n",
    "# Plot T distribution, highlighting the different plot areas\n",
    "left_ind    = X <= -t_value\n",
    "right_ind   = X >= t_value\n",
    "between_ind = (X > -t_value) & ( X < t_value)\n",
    "\n",
    "plt.fill_between(X[left_ind],stats.t.pdf(X[left_ind],dof), facecolor='deepskyblue')\n",
    "plt.fill_between(X[right_ind],stats.t.pdf(X[right_ind],dof), facecolor='deepskyblue')\n",
    "plt.fill_between(X[between_ind],stats.t.pdf(X[between_ind],dof),facecolor='red')\n",
    "\n",
    "# Label the plot areas\n",
    "plt.text(x=2.2*t,y=0.04, s='%0.3g' % left_prob)\n",
    "plt.text(x=-0.4,y=0.1,s='%0.3g' % between_prob)\n",
    "plt.text(x=1.6*-t,y=0.04, s='%0.3g' % right_prob)\n",
    "plt.show()\n",
    "\n",
    "print(\"The t_value that can be used in the 95 percent confidence interval is: %0.6g\" % T_val)"
   ]
  }
 ],
 "metadata": {
  "kernelspec": {
   "display_name": "Python 3",
   "language": "python",
   "name": "python3"
  },
  "language_info": {
   "codemirror_mode": {
    "name": "ipython",
    "version": 3
   },
   "file_extension": ".py",
   "mimetype": "text/x-python",
   "name": "python",
   "nbconvert_exporter": "python",
   "pygments_lexer": "ipython3",
   "version": "3.6.1"
  }
 },
 "nbformat": 4,
 "nbformat_minor": 2
}
