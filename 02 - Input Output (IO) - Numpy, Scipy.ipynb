{
 "cells": [
  {
   "cell_type": "markdown",
   "metadata": {
    "deletable": true,
    "editable": true
   },
   "source": [
    "# Input/Output\n",
    "\n",
    "Often, it is important to import information from a variety of sources and output the result. Here, we demonstrate a few ways of creating and saving files.\n",
    "\n",
    "By the end of this file you should have seen simple examples of:\n",
    "1. Printing string output to the screen\n",
    "2. Reading and writing string output to/from text files\n",
    "3. Reading and writing string output to/from csv files\n",
    "4. Reading and writing string output to/from binary files\n",
    "5. Reading and writing string output to/from matlab files"
   ]
  },
  {
   "cell_type": "code",
   "execution_count": 5,
   "metadata": {
    "collapsed": false,
    "deletable": true,
    "editable": true
   },
   "outputs": [
    {
     "name": "stdout",
     "output_type": "stream",
     "text": [
      "[WinError 2] The system cannot find the file specified: 'datafiles'\n",
      "C:\\Users\\bfleischer3\\Dropbox\\PACE\\Projects\\Courses\\Intro to Scientific Python\\datafiles\n"
     ]
    }
   ],
   "source": [
    "#Python Imports:\n",
    "import numpy as np\n",
    "import scipy.io as sio\n",
    "%cd datafiles"
   ]
  },
  {
   "cell_type": "markdown",
   "metadata": {
    "deletable": true,
    "editable": true
   },
   "source": [
    "## From standard input/keyboard:\n",
    "The import of simple text files can be performed directly in python via: "
   ]
  },
  {
   "cell_type": "code",
   "execution_count": 6,
   "metadata": {
    "collapsed": false,
    "deletable": true,
    "editable": true
   },
   "outputs": [
    {
     "name": "stdout",
     "output_type": "stream",
     "text": [
      "Lorem ipsum dolor sit amet, consectetur adipiscing elit.\n"
     ]
    }
   ],
   "source": [
    "kb_contents = 'Lorem ipsum dolor sit amet, consectetur adipiscing elit.'\n",
    "print(kb_contents)"
   ]
  },
  {
   "cell_type": "markdown",
   "metadata": {
    "deletable": true,
    "editable": true
   },
   "source": [
    "## Text (ascii) files:\n",
    "The import of simple text files can be performed directly in python by creating a file object and operating on that object:"
   ]
  },
  {
   "cell_type": "code",
   "execution_count": 7,
   "metadata": {
    "collapsed": false,
    "deletable": true,
    "editable": true
   },
   "outputs": [
    {
     "name": "stdout",
     "output_type": "stream",
     "text": [
      "Lorem ipsum dolor sit amet, consectetur adipiscing elit. Nam leo purus, interdum sed interdum quis, tincidunt ac nibh. \n",
      "\n",
      "\n",
      "\n",
      "Maecenas a purus massa. Nunc a augue augue. Donec in felis commodo lectus convallis elementum sed vitae ipsum.\n"
     ]
    }
   ],
   "source": [
    "#Read line by line:\n",
    "file_obj = open('01-simpletext.txt','r')\n",
    "for line in file_obj:\n",
    "    print(line)\n",
    "file_obj.close()"
   ]
  },
  {
   "cell_type": "code",
   "execution_count": 8,
   "metadata": {
    "collapsed": false,
    "deletable": true,
    "editable": true
   },
   "outputs": [
    {
     "name": "stdout",
     "output_type": "stream",
     "text": [
      "Lorem ipsum dolor sit amet, consectetur adipiscing elit. Nam leo purus, interdum sed interdum quis, tincidunt ac nibh. \n",
      "\n",
      "Maecenas a purus massa. Nunc a augue augue. Donec in felis commodo lectus convallis elementum sed vitae ipsum.\n"
     ]
    }
   ],
   "source": [
    "#Use the read method:\n",
    "file_obj = open('01-simpletext.txt','r')\n",
    "file_contents = file_obj.read()\n",
    "file_obj.close()\n",
    "print(file_contents)"
   ]
  },
  {
   "cell_type": "code",
   "execution_count": 9,
   "metadata": {
    "collapsed": false,
    "deletable": true,
    "editable": true
   },
   "outputs": [
    {
     "name": "stdout",
     "output_type": "stream",
     "text": [
      "Lorem ipsum dolor sit amet, consectetur adipiscing elit. Nam leo purus, interdum sed interdum quis, tincidunt ac nibh. \n",
      "\n",
      "Maecenas a purus massa. Nunc a augue augue. Donec in felis commodo lectus convallis elementum sed vitae ipsum.\n"
     ]
    }
   ],
   "source": [
    "#Python 'with' statement automatically takes care of the close for us:\n",
    "with open('01-simpletext.txt','r') as file_obj:\n",
    "    print(file_obj.read())"
   ]
  },
  {
   "cell_type": "code",
   "execution_count": 10,
   "metadata": {
    "collapsed": false,
    "deletable": true,
    "editable": true
   },
   "outputs": [
    {
     "name": "stdout",
     "output_type": "stream",
     "text": [
      "Lorem ipsum dolor sit amet, consectetur adipiscing elit. Nam leo purus, interdum sed interdum quis, tincidunt ac nibh. \n",
      "\n",
      "Maecenas a purus massa. Nunc a augue augue. Donec in felis commodo lectus convallis elementum sed vitae ipsum.\n"
     ]
    }
   ],
   "source": [
    "# Write to ascii files:\n",
    "file_obj = open('01-simpletext_write.txt','w')\n",
    "file_obj.write(file_contents)\n",
    "file_obj.close()\n",
    "\n",
    "# Or, alternatively:\n",
    "with open('01-simpletext_write.txt','w') as file_obj:\n",
    "    file_obj.write(file_contents)\n",
    "\n",
    "# Check that our written output is good:\n",
    "with open('01-simpletext_write.txt','r') as file_obj:\n",
    "    print(file_obj.read())"
   ]
  },
  {
   "cell_type": "markdown",
   "metadata": {
    "deletable": true,
    "editable": true
   },
   "source": [
    "## Comma Separated Values\n",
    "Here, we import data separated by a particular delimiter, as in tsv or csv files:"
   ]
  },
  {
   "cell_type": "code",
   "execution_count": 11,
   "metadata": {
    "collapsed": false,
    "deletable": true,
    "editable": true
   },
   "outputs": [
    {
     "name": "stdout",
     "output_type": "stream",
     "text": [
      "['1', '0.012', '2', '0.024\\n2', '0.014', '4', '0.056\\n3', '0.016', '8', '0.128\\n4', '0.018', '16', '0.288\\n5', '0.020', '32', '0.640\\n6', '0.022', '64', '1.408\\n7', '0.024', '128', '3.072\\n8', '0.026', '256', '6.656\\n9', '0.028', '512', '14.336\\n10', '0.030', '1024', '30.720']\n"
     ]
    }
   ],
   "source": [
    "#Creating a python list:\n",
    "file_obj = open('01-simpledata.csv','r')\n",
    "file_contents = file_obj.read().split(',')\n",
    "file_obj.close()\n",
    "print(file_contents)"
   ]
  },
  {
   "cell_type": "code",
   "execution_count": 12,
   "metadata": {
    "collapsed": false,
    "deletable": true,
    "editable": true
   },
   "outputs": [
    {
     "name": "stdout",
     "output_type": "stream",
     "text": [
      "[[  1.00000000e+00   1.20000000e-02   2.00000000e+00   2.40000000e-02]\n",
      " [  2.00000000e+00   1.40000000e-02   4.00000000e+00   5.60000000e-02]\n",
      " [  3.00000000e+00   1.60000000e-02   8.00000000e+00   1.28000000e-01]\n",
      " [  4.00000000e+00   1.80000000e-02   1.60000000e+01   2.88000000e-01]\n",
      " [  5.00000000e+00   2.00000000e-02   3.20000000e+01   6.40000000e-01]\n",
      " [  6.00000000e+00   2.20000000e-02   6.40000000e+01   1.40800000e+00]\n",
      " [  7.00000000e+00   2.40000000e-02   1.28000000e+02   3.07200000e+00]\n",
      " [  8.00000000e+00   2.60000000e-02   2.56000000e+02   6.65600000e+00]\n",
      " [  9.00000000e+00   2.80000000e-02   5.12000000e+02   1.43360000e+01]\n",
      " [  1.00000000e+01   3.00000000e-02   1.02400000e+03   3.07200000e+01]]\n"
     ]
    }
   ],
   "source": [
    "#Use numpy to read an array from a file\n",
    "file_contents = np.loadtxt(open('01-simpledata.csv'), delimiter=\",\")\n",
    "file_contents = file_contents.astype('float')\n",
    "print(file_contents)"
   ]
  },
  {
   "cell_type": "code",
   "execution_count": 13,
   "metadata": {
    "collapsed": false,
    "deletable": true,
    "editable": true
   },
   "outputs": [
    {
     "name": "stdout",
     "output_type": "stream",
     "text": [
      "[[  2.00000000e+00   2.40000000e-02   4.00000000e+00   4.80000000e-02]\n",
      " [  4.00000000e+00   2.80000000e-02   8.00000000e+00   1.12000000e-01]\n",
      " [  6.00000000e+00   3.20000000e-02   1.60000000e+01   2.56000000e-01]\n",
      " [  8.00000000e+00   3.60000000e-02   3.20000000e+01   5.76000000e-01]\n",
      " [  1.00000000e+01   4.00000000e-02   6.40000000e+01   1.28000000e+00]\n",
      " [  1.20000000e+01   4.40000000e-02   1.28000000e+02   2.81600000e+00]\n",
      " [  1.40000000e+01   4.80000000e-02   2.56000000e+02   6.14400000e+00]\n",
      " [  1.60000000e+01   5.20000000e-02   5.12000000e+02   1.33120000e+01]\n",
      " [  1.80000000e+01   5.60000000e-02   1.02400000e+03   2.86720000e+01]\n",
      " [  2.00000000e+01   6.00000000e-02   2.04800000e+03   6.14400000e+01]]\n"
     ]
    }
   ],
   "source": [
    "#Save output of numpy array to csv file\n",
    "file_contents_write = file_contents*2 #Double to differentiate read vs write data\n",
    "\n",
    "np.savetxt('01-simpledata_write.csv',file_contents_write, '%0.3f', delimiter=\",\") \n",
    "# %0.3f specifices 3 decimal places\n",
    "file_contents = np.loadtxt(open('01-simpledata_write.csv'), delimiter=\",\")\n",
    "print(file_contents)"
   ]
  },
  {
   "cell_type": "markdown",
   "metadata": {
    "deletable": true,
    "editable": true
   },
   "source": [
    "## Read from Binary File\n",
    "Binary files store the same information as text or csv, but do so directly in bytes, rather than using ascii to encode. They have the advantage of being faster to read and smaller in size, but are not readily readable by a typical text editor (notepad, vim, sublime, etc).\n",
    "\n",
    "Note: be careful to avoid `numpy.fromfile` and `numpy.tofile` as they are not platform independent!"
   ]
  },
  {
   "cell_type": "code",
   "execution_count": 30,
   "metadata": {
    "collapsed": false,
    "deletable": true,
    "editable": true
   },
   "outputs": [
    {
     "name": "stdout",
     "output_type": "stream",
     "text": [
      "[[  2.00000000e+00   2.40000000e-02   4.00000000e+00   4.80000000e-02]\n",
      " [  4.00000000e+00   2.80000000e-02   8.00000000e+00   1.12000000e-01]\n",
      " [  6.00000000e+00   3.20000000e-02   1.60000000e+01   2.56000000e-01]\n",
      " [  8.00000000e+00   3.60000000e-02   3.20000000e+01   5.76000000e-01]\n",
      " [  1.00000000e+01   4.00000000e-02   6.40000000e+01   1.28000000e+00]\n",
      " [  1.20000000e+01   4.40000000e-02   1.28000000e+02   2.81600000e+00]\n",
      " [  1.40000000e+01   4.80000000e-02   2.56000000e+02   6.14400000e+00]\n",
      " [  1.60000000e+01   5.20000000e-02   5.12000000e+02   1.33120000e+01]\n",
      " [  1.80000000e+01   5.60000000e-02   1.02400000e+03   2.86720000e+01]\n",
      " [  2.00000000e+01   6.00000000e-02   2.04800000e+03   6.14400000e+01]]\n"
     ]
    }
   ],
   "source": [
    "# Read in the csv from the previous step:\n",
    "file_contents = np.loadtxt(open('01-simpledata_write.csv'), delimiter=\",\")\n",
    "print(file_contents)"
   ]
  },
  {
   "cell_type": "code",
   "execution_count": 43,
   "metadata": {
    "collapsed": false,
    "deletable": true,
    "editable": true
   },
   "outputs": [
    {
     "name": "stdout",
     "output_type": "stream",
     "text": [
      "[  4.00000000e+00   4.80000000e-02   8.00000000e+00   9.60000000e-02\n",
      "   8.00000000e+00   5.60000000e-02   1.60000000e+01   2.24000000e-01\n",
      "   1.20000000e+01   6.40000000e-02   3.20000000e+01   5.12000000e-01\n",
      "   1.60000000e+01   7.20000000e-02   6.40000000e+01   1.15200000e+00\n",
      "   2.00000000e+01   8.00000000e-02   1.28000000e+02   2.56000000e+00\n",
      "   2.40000000e+01   8.80000000e-02   2.56000000e+02   5.63200000e+00\n",
      "   2.80000000e+01   9.60000000e-02   5.12000000e+02   1.22880000e+01\n",
      "   3.20000000e+01   1.04000000e-01   1.02400000e+03   2.66240000e+01\n",
      "   3.60000000e+01   1.12000000e-01   2.04800000e+03   5.73440000e+01\n",
      "   4.00000000e+01   1.20000000e-01   4.09600000e+03   1.22880000e+02]\n"
     ]
    }
   ],
   "source": [
    "# Save as a binary file:\n",
    "np.savetxt('01-simpledata_write.bin', file_contents_write*2) # Note the lack of demiliter\n",
    "file_contents = np.loadtxt('01-simpledata_write.bin')\n",
    "\n",
    "# The following is not recommended, as it is platform dependent:\n",
    "#np.ndarray.tofile(file_contents_write, '01-simpledata_write.bin')\n",
    "#file_contents = np.fromfile('01-simpledata_write.bin')\n",
    "\n",
    "print(file_contents)"
   ]
  },
  {
   "cell_type": "markdown",
   "metadata": {
    "deletable": true,
    "editable": true
   },
   "source": [
    "## Matlab .mat files\n",
    "Generating matlab variables via:\n",
    "\n",
    "``testvar = magic(9)``\n",
    "\n",
    "``save('01-simplemat.mat','testvar')``\n",
    "\n",
    "These can then be loaded via scipy.io (imported as sio here):"
   ]
  },
  {
   "cell_type": "code",
   "execution_count": 22,
   "metadata": {
    "collapsed": false,
    "deletable": true,
    "editable": true
   },
   "outputs": [
    {
     "name": "stdout",
     "output_type": "stream",
     "text": [
      "[[47 58 69 80  1 12 23 34 45]\n",
      " [57 68 79  9 11 22 33 44 46]\n",
      " [67 78  8 10 21 32 43 54 56]\n",
      " [77  7 18 20 31 42 53 55 66]\n",
      " [ 6 17 19 30 41 52 63 65 76]\n",
      " [16 27 29 40 51 62 64 75  5]\n",
      " [26 28 39 50 61 72 74  4 15]\n",
      " [36 38 49 60 71 73  3 14 25]\n",
      " [37 48 59 70 81  2 13 24 35]]\n"
     ]
    }
   ],
   "source": [
    "# Use scipy to read in .mat files:\n",
    "mat_contents= sio.loadmat('01-simplemat.mat')\n",
    "\n",
    "testvar = mat_contents['testvar']\n",
    "print(testvar)"
   ]
  },
  {
   "cell_type": "code",
   "execution_count": 21,
   "metadata": {
    "collapsed": false,
    "deletable": true,
    "editable": true
   },
   "outputs": [
    {
     "name": "stdout",
     "output_type": "stream",
     "text": [
      "[[188 232  20  64   4  48  92 136 180]\n",
      " [228  16  60  36  44  88 132 176 184]\n",
      " [ 12  56  32  40  84 128 172 216 224]\n",
      " [ 52  28  72  80 124 168 212 220   8]\n",
      " [ 24  68  76 120 164 208 252   4  48]\n",
      " [ 64 108 116 160 204 248   0  44  20]\n",
      " [104 112 156 200 244  32  40  16  60]\n",
      " [144 152 196 240  28  36  12  56 100]\n",
      " [148 192 236  24  68   8  52  96 140]]\n"
     ]
    }
   ],
   "source": [
    "# Use scipy to write .mat files:\n",
    "testvar_write = testvar*2 # Double to make read data different from write data\n",
    "\n",
    "sio.savemat('01-simplemat_write.mat' ,{'testvar_write':testvar_write})\n",
    "\n",
    "mat_contents = sio.loadmat('01-simplemat_write.mat')\n",
    "testvar = mat_contents['testvar_write']\n",
    "print(testvar_write)"
   ]
  }
 ],
 "metadata": {
  "kernelspec": {
   "display_name": "Python 3",
   "language": "python",
   "name": "python3"
  },
  "language_info": {
   "codemirror_mode": {
    "name": "ipython",
    "version": 3
   },
   "file_extension": ".py",
   "mimetype": "text/x-python",
   "name": "python",
   "nbconvert_exporter": "python",
   "pygments_lexer": "ipython3",
   "version": "3.6.1"
  }
 },
 "nbformat": 4,
 "nbformat_minor": 2
}
