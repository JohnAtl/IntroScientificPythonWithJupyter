{
 "cells": [
  {
   "cell_type": "markdown",
   "metadata": {
    "deletable": true,
    "editable": true
   },
   "source": [
    "## Basic Mathematimatical Operations\n",
    "\n",
    "Python is well suited to perform basic arithmetic, and is well supplemented by the numpy and scipy libraries: \n",
    "\n",
    "By the end of this file you should have seen simple examples of:\n",
    "1. Basic arythmetic\n",
    "2. Powers and roots\n",
    "3. Logarithmic functions\n",
    "4. Trigonometric functions\n",
    "\n",
    "Further Reading:  \n",
    "https://docs.python.org/2/library/math.html#power-and-logarithmic-functions  \n",
    "https://docs.python.org/2/library/math.html#trigonometric-functions  "
   ]
  },
  {
   "cell_type": "code",
   "execution_count": 1,
   "metadata": {
    "collapsed": true,
    "deletable": true,
    "editable": true
   },
   "outputs": [],
   "source": [
    "#Python Imports\n",
    "import math"
   ]
  },
  {
   "cell_type": "code",
   "execution_count": 3,
   "metadata": {
    "collapsed": false,
    "deletable": true,
    "editable": true
   },
   "outputs": [
    {
     "name": "stdout",
     "output_type": "stream",
     "text": [
      "The sum of 3 and 4 is: 7\n",
      "The product of 3 and 4 is: 12\n",
      "The difference of 3 with 4 is: -1\n",
      "The dividend of 3 with 4 is: 0.75\n",
      "The modulo of 3 with 4 is: 3\n"
     ]
    }
   ],
   "source": [
    "print('The sum of 3 and 4 is:', 3 + 4)\n",
    "print('The product of 3 and 4 is:', 3 * 4)\n",
    "print('The difference of 3 with 4 is:', 3 - 4)\n",
    "print('The dividend of 3 with 4 is:', 3 / 4)\n",
    "print('The modulo of 3 with 4 is:', 3 % 4)"
   ]
  },
  {
   "cell_type": "code",
   "execution_count": 4,
   "metadata": {
    "collapsed": false,
    "deletable": true,
    "editable": true
   },
   "outputs": [
    {
     "name": "stdout",
     "output_type": "stream",
     "text": [
      "The power of 3 to the 4 is: 81\n",
      "The 3rd root of 4 is: 1.5874010519681994\n"
     ]
    }
   ],
   "source": [
    "# Powers and roots\n",
    "print('The power of 3 to the 4 is:', 3 ** 4)\n",
    "print('The 3rd root of 4 is:', 4 ** (1.0 / 3))"
   ]
  },
  {
   "cell_type": "code",
   "execution_count": 5,
   "metadata": {
    "collapsed": false,
    "deletable": true,
    "editable": true
   },
   "outputs": [
    {
     "name": "stdout",
     "output_type": "stream",
     "text": [
      "The log base 10 of 3 is: 0.47712125471966244\n",
      "The log base e of 3 is: 1.0986122886681098\n",
      "The log base 3 of 4 is: 1.2618595071429148\n"
     ]
    }
   ],
   "source": [
    "#Logarithmic functions\n",
    "print('The log base 10 of 3 is:',math.log10(3))\n",
    "print('The log base e of 3 is:', math.log(3))\n",
    "print('The log base 3 of 4 is:', math.log(4,3))"
   ]
  },
  {
   "cell_type": "code",
   "execution_count": 6,
   "metadata": {
    "collapsed": false,
    "deletable": true,
    "editable": true
   },
   "outputs": [
    {
     "name": "stdout",
     "output_type": "stream",
     "text": [
      "The sine of pi is: 1.2246467991473532e-16\n",
      "The sine of pi is: -1.0\n",
      "The arc tangent of pi is: 1.2626272556789115\n"
     ]
    }
   ],
   "source": [
    "# Trigonometric functions\n",
    "print('The sine of pi is:',math.sin(math.pi))\n",
    "print('The sine of pi is:',math.cos(math.pi))\n",
    "print('The arc tangent of pi is:',math.atan(math.pi))"
   ]
  }
 ],
 "metadata": {
  "kernelspec": {
   "display_name": "Python 3",
   "language": "python",
   "name": "python3"
  },
  "language_info": {
   "codemirror_mode": {
    "name": "ipython",
    "version": 3
   },
   "file_extension": ".py",
   "mimetype": "text/x-python",
   "name": "python",
   "nbconvert_exporter": "python",
   "pygments_lexer": "ipython3",
   "version": "3.6.1"
  }
 },
 "nbformat": 4,
 "nbformat_minor": 2
}
