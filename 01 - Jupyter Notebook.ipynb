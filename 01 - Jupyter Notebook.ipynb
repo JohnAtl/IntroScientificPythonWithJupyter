{
 "cells": [
  {
   "cell_type": "markdown",
   "metadata": {},
   "source": [
    "# Jupyter Notebook Introduction\n",
    "\n",
    "A server-client application for prototyping ideas or describing an analysis, the Jupyter Notebook provides a convenient cross-platform interface through a web browser.\n",
    "\n",
    "While there is support for different software (over 40 languages including Python, R, Julia, and Scala) we'll focus on Python, and all code herein is compatible with python 2.7 and python 3.5.\n",
    "\n",
    "\n",
    "Further Reading:  \n",
    "https://jupyter.readthedocs.io/en/latest/running.html  "
   ]
  },
  {
   "cell_type": "markdown",
   "metadata": {},
   "source": [
    "To get started, in a terminal, run:\n",
    "\n",
    "`jupyter notebook`  \n",
    "   \n",
    "  "
   ]
  },
  {
   "cell_type": "markdown",
   "metadata": {
    "collapsed": true
   },
   "source": [
    "<div align=\"center\">\n",
    "<img src=\"files/images/01-01_jupyter_terminal.png\">\n",
    "</div>"
   ]
  },
  {
   "cell_type": "markdown",
   "metadata": {},
   "source": [
    "Then, if a web browser doesn't automatically load, try copying and pasting the URL (with the token) into a web browser.\n",
    "\n",
    "This is called the **notebook dashboard**, and provides an interface for a variety of tasks including accessing files, running jupyter notebooks (ipython notebooks, *.ipynb), and starting new terminals,."
   ]
  },
  {
   "cell_type": "markdown",
   "metadata": {},
   "source": [
    "<div align=\"center\">\n",
    "<img src=\"files/images/01-02_home_tab.png\" width=80%>\n",
    "</div>"
   ]
  },
  {
   "cell_type": "markdown",
   "metadata": {},
   "source": [
    "Here, there may be a series of folders depending on what files may or may not be present. If *.ipynb files are present, simply click on them to start the jupyter notebook interface. Otherwise, a new jupyter notebook can be opened via the 'New' drop down menu on the left side."
   ]
  },
  {
   "cell_type": "markdown",
   "metadata": {},
   "source": [
    "<div align=\"center\">\n",
    "<img src=\"files/images/01-03_jupyter_notebook.png\" width=70%>\n",
    "</div>"
   ]
  },
  {
   "cell_type": "markdown",
   "metadata": {},
   "source": [
    "Notebooks are divided into cells, where each cell is a numbered 'In:' or 'Out:'."
   ]
  },
  {
   "cell_type": "markdown",
   "metadata": {},
   "source": [
    "### Run some Python!\n",
    "\n",
    "To run code:\n",
    "\n",
    "1. Click on the cell to select it.\n",
    "2. Press `SHIFT+ENTER` on your keyboard or press the step-forward button (<button class='fa fa-step-forward icon-next btn btn-xs btn-default'></button>) in the toolbar above."
   ]
  },
  {
   "cell_type": "code",
   "execution_count": 1,
   "metadata": {},
   "outputs": [],
   "source": [
    "# use '#' as a comment. These aren't evaluated by python, and is just for us humans\n",
    "import os # First, import a built-in python package, 'os'"
   ]
  },
  {
   "cell_type": "markdown",
   "metadata": {},
   "source": [
    "### Help\n",
    "We can use a question mark to pull up help from below:"
   ]
  },
  {
   "cell_type": "code",
   "execution_count": 2,
   "metadata": {},
   "outputs": [],
   "source": [
    "?os"
   ]
  },
  {
   "cell_type": "markdown",
   "metadata": {},
   "source": [
    "<div align=\"center\">\n",
    "<img src=\"files/images/01-04_help.png\" width=70%>\n",
    "</div>"
   ]
  },
  {
   "cell_type": "markdown",
   "metadata": {},
   "source": [
    "We can also hit `TAB` to see what functionality 'os' - in other words, tab completion. These are referred to as classes, and are how we can use python as an object oriented language:"
   ]
  },
  {
   "cell_type": "code",
   "execution_count": 3,
   "metadata": {},
   "outputs": [
    {
     "ename": "SyntaxError",
     "evalue": "invalid syntax (<ipython-input-3-024bf0bece45>, line 1)",
     "output_type": "error",
     "traceback": [
      "\u001b[0;36m  File \u001b[0;32m\"<ipython-input-3-024bf0bece45>\"\u001b[0;36m, line \u001b[0;32m1\u001b[0m\n\u001b[0;31m    os.\u001b[0m\n\u001b[0m       ^\u001b[0m\n\u001b[0;31mSyntaxError\u001b[0m\u001b[0;31m:\u001b[0m invalid syntax\n"
     ]
    }
   ],
   "source": [
    "os."
   ]
  },
  {
   "cell_type": "markdown",
   "metadata": {},
   "source": [
    "<div align=\"center\">\n",
    "<img src=\"files/images/01-05_tab-completion.png\" width=50%>\n",
    "</div>"
   ]
  },
  {
   "cell_type": "markdown",
   "metadata": {},
   "source": [
    "Then, once we decide on the class we'd like to use, then we can see help via Shift+Tab, which gives three different levels of output. Additional Shift+Tabs provide progressively more information:"
   ]
  },
  {
   "cell_type": "code",
   "execution_count": null,
   "metadata": {
    "collapsed": true
   },
   "outputs": [],
   "source": [
    "os.path()"
   ]
  },
  {
   "cell_type": "markdown",
   "metadata": {},
   "source": [
    "`SHIFT`+`TAB` one time:\n",
    "<div align=\"center\">\n",
    "<img src=\"files/images/01-06_shift-tab1.png\" width=70%>\n",
    "</div>\n",
    "\n",
    "\n",
    "`SHIFT`+`TAB` two times:\n",
    "<div align=\"center\">\n",
    "<img src=\"files/images/01-07_shift-tab2.png\" width=70%>\n",
    "</div>\n",
    "\n",
    " \n",
    "`SHIFT`+`TAB` four times loads documentation on the above function:\n",
    "<div align=\"center\">\n",
    "<img src=\"files/images/01-08_shift-tab4.png\" width=70%>\n",
    "</div>\n",
    "\n"
   ]
  },
  {
   "cell_type": "markdown",
   "metadata": {},
   "source": [
    "### Shell Commands\n",
    "Use an exclamation point to execute commands in a terminal/shell outside of python by placing a ! in front of the command:  \n",
    "if Linux/Mac: `!ls`  \n",
    "if Windows:  `!dir` "
   ]
  },
  {
   "cell_type": "code",
   "execution_count": null,
   "metadata": {},
   "outputs": [],
   "source": [
    "!ls"
   ]
  },
  {
   "cell_type": "markdown",
   "metadata": {},
   "source": [
    "### Magic Functions\n",
    "\n",
    "Additional functionality beyond python is present - a cool feature from ipython. These are specified with a % symbol in front of the command, and are called 'magic' functions. \n",
    "\n",
    "Fo example, `%lsmagic` lists all the available magic functions:"
   ]
  },
  {
   "cell_type": "code",
   "execution_count": null,
   "metadata": {},
   "outputs": [],
   "source": [
    "%lsmagic"
   ]
  },
  {
   "cell_type": "markdown",
   "metadata": {},
   "source": [
    "`%quickref` brings up a reference for the line magics:"
   ]
  },
  {
   "cell_type": "code",
   "execution_count": null,
   "metadata": {
    "collapsed": true
   },
   "outputs": [],
   "source": [
    "%quickref "
   ]
  },
  {
   "cell_type": "markdown",
   "metadata": {},
   "source": [
    "Magic is useful for things like changing the directory via `%cd <directory name>`, or timing the length of code execution:"
   ]
  },
  {
   "cell_type": "code",
   "execution_count": null,
   "metadata": {},
   "outputs": [],
   "source": [
    "%timeit sum(x**2 for x in range(5000))"
   ]
  },
  {
   "cell_type": "markdown",
   "metadata": {},
   "source": [
    "If you're witing a python module, it the following will reload it every time it's executed. Very useful for developing python modules!"
   ]
  },
  {
   "cell_type": "code",
   "execution_count": null,
   "metadata": {
    "collapsed": true
   },
   "outputs": [],
   "source": [
    "%load_ext autoreload"
   ]
  },
  {
   "cell_type": "markdown",
   "metadata": {
    "collapsed": true
   },
   "source": [
    "### Plots in Notebooks\n",
    "\n",
    "We can plot in a notebook via the matplotlib magic:"
   ]
  },
  {
   "cell_type": "code",
   "execution_count": null,
   "metadata": {},
   "outputs": [],
   "source": [
    "import pylab as plt # Load matplot lib pylab\n",
    "%matplotlib inline  \n",
    "plt.plot(range(10),range(0,100,10))"
   ]
  },
  {
   "cell_type": "markdown",
   "metadata": {},
   "source": [
    "### Other Languages\n",
    "\n",
    "Other programming languages can be used by running the magic, they are available:"
   ]
  },
  {
   "cell_type": "markdown",
   "metadata": {},
   "source": [
    "Using markdown cells, we can render LaTeX by placing \\$\\$ before and after LaTeX statements:\n",
    "\n",
    "\\$\\$ P(A \\mid B) = \\frac{P(B \\mid A) \\, P(A)}{P(B)} \\$\\$:  \n",
    "$$ P(A \\mid B) = \\frac{P(B \\mid A) \\, P(A)}{P(B)} $$"
   ]
  },
  {
   "cell_type": "code",
   "execution_count": null,
   "metadata": {},
   "outputs": [],
   "source": [
    "%%bash\n",
    "\n",
    "s/python/bash/;\n",
    "for i in {1..5}\n",
    "do\n",
    "   echo \"i is $i\"\n",
    "done"
   ]
  },
  {
   "cell_type": "code",
   "execution_count": null,
   "metadata": {},
   "outputs": [],
   "source": [
    "%%perl -l\n",
    "\n",
    "my $str = \"python was used here!\";\n",
    "print $str; # Print original string\n",
    "\n",
    "$str =~ s/python/perl/; # String replacement\n",
    "print $str;"
   ]
  },
  {
   "cell_type": "markdown",
   "metadata": {},
   "source": [
    "### Keyboard Shortcuts\n",
    "\n",
    "Finally, there are ***lots*** of keyboard shortcuts. You can get a list by clicking on the keyboard icon:\n",
    "\n",
    "    \n",
    "<div align=\"center\">\n",
    "<img src=\"files/images/01-09_keyboard_shortcut1.png\">\n",
    "</div>\n",
    "\n",
    "Which will bring up a list of commands:  \n",
    "\n",
    "\n",
    "<div align=\"center\">\n",
    "<img src=\"files/images/01-10_keyboard_shortcut2.png\">\n",
    "</div>"
   ]
  },
  {
   "cell_type": "markdown",
   "metadata": {},
   "source": [
    "### Accessing a Terminal from within Jupyter\n",
    "\n",
    "To get a terminal window from within jupyter, go to the notebook dashboard, click on 'New', and select 'Terminal'.  \n",
    "\n",
    "<div align=\"center\">\n",
    "<img src=\"files/images/01-11_terminal1.png\">\n",
    "</div>"
   ]
  },
  {
   "cell_type": "markdown",
   "metadata": {},
   "source": [
    "This will open a new tab automatically with a terminal interface. This is useful for running system commands such as installing python packages:\n",
    "\n",
    "<div align=\"center\">\n",
    "<img src=\"files/images/01-12_terminal2.png\">\n",
    "</div>"
   ]
  },
  {
   "cell_type": "code",
   "execution_count": null,
   "metadata": {
    "collapsed": true
   },
   "outputs": [],
   "source": []
  }
 ],
 "metadata": {
  "kernelspec": {
   "display_name": "Python [Root]",
   "language": "python",
   "name": "Python [Root]"
  },
  "language_info": {
   "codemirror_mode": {
    "name": "ipython",
    "version": 3
   },
   "file_extension": ".py",
   "mimetype": "text/x-python",
   "name": "python",
   "nbconvert_exporter": "python",
   "pygments_lexer": "ipython3",
   "version": "3.5.3"
  }
 },
 "nbformat": 4,
 "nbformat_minor": 2
}
