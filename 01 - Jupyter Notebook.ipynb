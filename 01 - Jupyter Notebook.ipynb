{
 "cells": [
  {
   "cell_type": "markdown",
   "metadata": {
    "deletable": true,
    "editable": true
   },
   "source": [
    "# Jupyter Notebook Introduction\n",
    "\n",
    "A server-client application for prototyping ideas or describing an analysis, the Jupyter Notebook provides a convenient cross-platform interface through a web browser.\n",
    "\n",
    "While there is support for different software (over 40 languages including Python, R, Julia, and Scala) we'll focus on Python, and all code herein is compatible with python 2.7 and python 3.5.\n",
    "\n",
    "\n",
    "Further Reading:  \n",
    "https://jupyter.readthedocs.io/en/latest/running.html  "
   ]
  },
  {
   "cell_type": "markdown",
   "metadata": {
    "deletable": true,
    "editable": true
   },
   "source": [
    "To get started, in a terminal, run:\n",
    "\n",
    "`jupyter notebook`  \n",
    "   \n",
    "  "
   ]
  },
  {
   "cell_type": "markdown",
   "metadata": {
    "collapsed": true,
    "deletable": true,
    "editable": true
   },
   "source": [
    "<div align=\"center\">\n",
    "<img src=\"images/01-01_jupyter_terminal.png\">\n",
    "</div>"
   ]
  },
  {
   "cell_type": "markdown",
   "metadata": {
    "deletable": true,
    "editable": true
   },
   "source": [
    "Then, if a web browser doesn't automatically load, try copying and pasting the URL (with the \"`/?token=...`\") into a web browser.\n",
    "\n",
    "This is called the **notebook dashboard**, and provides an interface for a variety of tasks including accessing files, running jupyter notebooks (ipython notebooks, .ipynb), and starting new terminals,."
   ]
  },
  {
   "cell_type": "markdown",
   "metadata": {
    "deletable": true,
    "editable": true
   },
   "source": [
    "<div align=\"center\">\n",
    "<img src=\"images/01-02_home_tab.png\" width=80%>\n",
    "</div>"
   ]
  },
  {
   "cell_type": "markdown",
   "metadata": {
    "deletable": true,
    "editable": true
   },
   "source": [
    "Here, there may be a series of folders depending on what files may or may not be present. If *.ipynb files are present, simply click on them to start the jupyter notebook interface. Otherwise, a new jupyter notebook can be opened via the 'New' drop down menu on the right side (inside the red box above)."
   ]
  },
  {
   "cell_type": "markdown",
   "metadata": {
    "deletable": true,
    "editable": true
   },
   "source": [
    "<div align=\"center\">\n",
    "<img src=\"images/01-03_jupyter_notebook.png\" width=70%>\n",
    "</div>"
   ]
  },
  {
   "cell_type": "markdown",
   "metadata": {
    "deletable": true,
    "editable": true
   },
   "source": [
    "Notebooks are divided into cells. ** Press `SHIFT + ENTER` to execute a cell.*** Double click in any cell to enter text."
   ]
  },
  {
   "cell_type": "markdown",
   "metadata": {
    "deletable": true,
    "editable": true
   },
   "source": [
    "### Types of cells\n",
    "\n",
    "There are two main types of cells used in these materials - \"Code\" and \"Markdown\".\n",
    "\n",
    "** Code cells contain executable python and are the default.** They have the '`In [ ]:`' and '`Out [ ]:`', where the number in in the '`[ ]`' represents the order cells were executed (helpful to know when the order execution matters). They have a grey box where the entered text is located. \n",
    "\n",
    "Code cells can be selected via 'Code' in the highlighted dropdown menu or by pressing '`y`', \n",
    "\n",
    "<div align=\"center\">\n",
    "<img src=\"images/01-03a_jupyter_notebook_code.png\" width=90%>\n",
    "</div>"
   ]
  },
  {
   "cell_type": "markdown",
   "metadata": {
    "deletable": true,
    "editable": true
   },
   "source": [
    "** Markdown cells are used to show text and images. ** They can be selected via the dropdown menu or by pressing 'm' on the keyboard. Markdown language can be used to format the text in markdown cells:\n",
    "\n",
    "<div align=\"center\">\n",
    "<img src=\"images/01-03b_jupyter_notebook_markdown.png\" width=90%>\n",
    "</div>"
   ]
  },
  {
   "cell_type": "markdown",
   "metadata": {
    "deletable": true,
    "editable": true
   },
   "source": [
    "### Run some Python!\n",
    "\n",
    "To run code:\n",
    "\n",
    "1. Click on the cell to select it.\n",
    "2. Press `SHIFT+ENTER` on your keyboard or press the step-forward button (<button class='fa fa-step-forward icon-next btn btn-xs btn-default'></button>) in the toolbar above."
   ]
  },
  {
   "cell_type": "code",
   "execution_count": 1,
   "metadata": {
    "collapsed": true,
    "deletable": true,
    "editable": true
   },
   "outputs": [],
   "source": [
    "# use '#' as a comment. These aren't evaluated by python, and is just for us humans\n",
    "import os # First, import a built-in python package, 'os'"
   ]
  },
  {
   "cell_type": "markdown",
   "metadata": {
    "deletable": true,
    "editable": true
   },
   "source": [
    "### Help\n",
    "A question mark will pull up help from below:"
   ]
  },
  {
   "cell_type": "code",
   "execution_count": 2,
   "metadata": {
    "collapsed": true,
    "deletable": true,
    "editable": true
   },
   "outputs": [],
   "source": [
    "?os"
   ]
  },
  {
   "cell_type": "markdown",
   "metadata": {
    "deletable": true,
    "editable": true
   },
   "source": [
    "<div align=\"center\">\n",
    "<img src=\"images/01-04_help.png\" width=70%>\n",
    "</div>"
   ]
  },
  {
   "cell_type": "markdown",
   "metadata": {
    "deletable": true,
    "editable": true
   },
   "source": [
    "Pressing `TAB` will display the functionality 'os' provides - in other words, Jupyter Notebook provides tab completion. The options after the period are referred to to as classes, and classes are how we can use python as an object oriented language:"
   ]
  },
  {
   "cell_type": "code",
   "execution_count": 3,
   "metadata": {
    "collapsed": false,
    "deletable": true,
    "editable": true
   },
   "outputs": [
    {
     "ename": "SyntaxError",
     "evalue": "invalid syntax (<ipython-input-3-024bf0bece45>, line 1)",
     "output_type": "error",
     "traceback": [
      "\u001b[0;36m  File \u001b[0;32m\"<ipython-input-3-024bf0bece45>\"\u001b[0;36m, line \u001b[0;32m1\u001b[0m\n\u001b[0;31m    os.\u001b[0m\n\u001b[0m       ^\u001b[0m\n\u001b[0;31mSyntaxError\u001b[0m\u001b[0;31m:\u001b[0m invalid syntax\n"
     ]
    }
   ],
   "source": [
    "os."
   ]
  },
  {
   "cell_type": "markdown",
   "metadata": {
    "deletable": true,
    "editable": true
   },
   "source": [
    "<img style=\"float: left;\" src=\"images/01-05_tab-completion.png\" width=60%>"
   ]
  },
  {
   "cell_type": "markdown",
   "metadata": {
    "deletable": true,
    "editable": true
   },
   "source": [
    "Increasing detail of help is available via pressing `SHIFT+TAB` 1,2, and 4 times:"
   ]
  },
  {
   "cell_type": "markdown",
   "metadata": {
    "deletable": true,
    "editable": true
   },
   "source": [
    "`SHIFT`+`TAB` one time:\n",
    "<div align=\"center\">\n",
    "<img src=\"images/01-06_shift-tab1.png\" width=80%>\n",
    "</div>\n",
    "\n",
    "\n",
    "`SHIFT`+`TAB` two times:\n",
    "<div align=\"center\">\n",
    "<img src=\"images/01-07_shift-tab2.png\" width=80%>\n",
    "</div>\n",
    "\n",
    " \n",
    "`SHIFT`+`TAB` four times loads documentation on the above function:\n",
    "<div align=\"center\">\n",
    "<img src=\"images/01-08_shift-tab4.png\" width=80%>\n",
    "</div>\n",
    "\n"
   ]
  },
  {
   "cell_type": "markdown",
   "metadata": {
    "deletable": true,
    "editable": true
   },
   "source": [
    "### Shell Commands\n",
    "Use an exclamation point to execute commands in a terminal/shell outside of Python by placing a ! in front of the command:  \n",
    "Linux/Mac: `!ls`  \n",
    "Windows:  `!dir` "
   ]
  },
  {
   "cell_type": "code",
   "execution_count": null,
   "metadata": {
    "collapsed": false,
    "deletable": true,
    "editable": true
   },
   "outputs": [],
   "source": [
    "!ls"
   ]
  },
  {
   "cell_type": "markdown",
   "metadata": {
    "deletable": true,
    "editable": true
   },
   "source": [
    "### Magic Functions\n",
    "\n",
    "Additional functionality beyond Python is also present - a cool feature from ipython. These are specified with a % symbol in front of the command, and are called 'magic' functions. \n",
    "\n",
    "For example, `%lsmagic` lists all the available magic functions:"
   ]
  },
  {
   "cell_type": "code",
   "execution_count": null,
   "metadata": {
    "collapsed": false,
    "deletable": true,
    "editable": true
   },
   "outputs": [],
   "source": [
    "%lsmagic"
   ]
  },
  {
   "cell_type": "markdown",
   "metadata": {
    "deletable": true,
    "editable": true
   },
   "source": [
    "`%quickref` brings up a reference for the line magics:"
   ]
  },
  {
   "cell_type": "code",
   "execution_count": null,
   "metadata": {
    "collapsed": true,
    "deletable": true,
    "editable": true
   },
   "outputs": [],
   "source": [
    "%quickref "
   ]
  },
  {
   "cell_type": "markdown",
   "metadata": {
    "deletable": true,
    "editable": true
   },
   "source": [
    "Magic is useful for things like changing the directory via `%cd <directory name>`, or timing the length of code execution:"
   ]
  },
  {
   "cell_type": "code",
   "execution_count": null,
   "metadata": {
    "collapsed": false,
    "deletable": true,
    "editable": true
   },
   "outputs": [],
   "source": [
    "%timeit sum(x**2 for x in range(5000))"
   ]
  },
  {
   "cell_type": "markdown",
   "metadata": {
    "deletable": true,
    "editable": true
   },
   "source": [
    "When writing a python module, the following will reload it every time it's executed. Very useful for developing Python modules and packages!"
   ]
  },
  {
   "cell_type": "code",
   "execution_count": null,
   "metadata": {
    "collapsed": true,
    "deletable": true,
    "editable": true
   },
   "outputs": [],
   "source": [
    "%load_ext autoreload"
   ]
  },
  {
   "cell_type": "markdown",
   "metadata": {
    "deletable": true,
    "editable": true
   },
   "source": [
    "See what variables are in memory and what modules are loaded:"
   ]
  },
  {
   "cell_type": "code",
   "execution_count": null,
   "metadata": {
    "collapsed": false,
    "deletable": true,
    "editable": true
   },
   "outputs": [],
   "source": [
    "%whos"
   ]
  },
  {
   "cell_type": "markdown",
   "metadata": {
    "collapsed": true,
    "deletable": true,
    "editable": true
   },
   "source": [
    "### Plots in Notebooks\n",
    "\n",
    "It is possible to plot in a notebook via the matplotlib magic:"
   ]
  },
  {
   "cell_type": "code",
   "execution_count": null,
   "metadata": {
    "collapsed": false,
    "deletable": true,
    "editable": true
   },
   "outputs": [],
   "source": [
    "import pylab as plt # Load matplot lib pylab\n",
    "%matplotlib inline  \n",
    "plt.plot(range(10),range(0,100,10))"
   ]
  },
  {
   "cell_type": "markdown",
   "metadata": {
    "deletable": true,
    "editable": true
   },
   "source": [
    "### Other Languages\n",
    "\n",
    "Other programming languages can be used by running magic functions, they are available:"
   ]
  },
  {
   "cell_type": "markdown",
   "metadata": {
    "deletable": true,
    "editable": true
   },
   "source": [
    "Using markdown cells, we can render LaTeX by placing \\$\\$ before and after LaTeX statements:\n",
    "\n",
    "\\$\\$ P(A \\mid B) = \\frac{P(B \\mid A) \\, P(A)}{P(B)} \\$\\$:  \n",
    "$$ P(A \\mid B) = \\frac{P(B \\mid A) \\, P(A)}{P(B)} $$"
   ]
  },
  {
   "cell_type": "code",
   "execution_count": null,
   "metadata": {
    "collapsed": false,
    "deletable": true,
    "editable": true
   },
   "outputs": [],
   "source": [
    "%%bash\n",
    "\n",
    "s/python/bash/;\n",
    "for i in {1..5}\n",
    "do\n",
    "   echo \"i is $i\"\n",
    "done"
   ]
  },
  {
   "cell_type": "code",
   "execution_count": null,
   "metadata": {
    "collapsed": false,
    "deletable": true,
    "editable": true
   },
   "outputs": [],
   "source": [
    "%%perl -l\n",
    "\n",
    "my $str = \"python was used here!\";\n",
    "print $str; # Print original string\n",
    "\n",
    "$str =~ s/python/perl/; # String replacement\n",
    "print $str;"
   ]
  },
  {
   "cell_type": "markdown",
   "metadata": {
    "deletable": true,
    "editable": true
   },
   "source": [
    "### Keyboard Shortcuts\n",
    "\n",
    "Finally, there are ***lots*** of keyboard shortcuts. You can get a list by clicking on the keyboard icon:\n",
    "\n",
    "    \n",
    "<div align=\"center\">\n",
    "<img src=\"images/01-09_keyboard_shortcut1.png\">\n",
    "</div>\n",
    "\n",
    "Which will bring up a list of commands:  \n",
    "\n",
    "\n",
    "<div align=\"center\">\n",
    "<img src=\"images/01-10_keyboard_shortcut2.png\">\n",
    "</div>"
   ]
  },
  {
   "cell_type": "markdown",
   "metadata": {
    "deletable": true,
    "editable": true
   },
   "source": [
    "### Accessing a Terminal from within Jupyter\n",
    "\n",
    "To get a terminal window from within Jupyter, go to the notebook dashboard, click on 'New', and select 'Terminal'.  \n",
    "\n",
    "<div align=\"center\">\n",
    "<img src=\"images/01-11_terminal1.png\">\n",
    "</div>"
   ]
  },
  {
   "cell_type": "markdown",
   "metadata": {
    "deletable": true,
    "editable": true
   },
   "source": [
    "This will open a new tab automatically with a terminal interface (MacOS and Linux only). This is useful for running system commands such as installing Python packages:\n",
    "\n",
    "<div align=\"center\">\n",
    "<img src=\"images/01-12_terminal2.png\">\n",
    "</div>"
   ]
  }
 ],
 "metadata": {
  "kernelspec": {
   "display_name": "Python 3",
   "language": "python",
   "name": "python3"
  },
  "language_info": {
   "codemirror_mode": {
    "name": "ipython",
    "version": 3
   },
   "file_extension": ".py",
   "mimetype": "text/x-python",
   "name": "python",
   "nbconvert_exporter": "python",
   "pygments_lexer": "ipython3",
   "version": "3.6.1"
  }
 },
 "nbformat": 4,
 "nbformat_minor": 2
}
