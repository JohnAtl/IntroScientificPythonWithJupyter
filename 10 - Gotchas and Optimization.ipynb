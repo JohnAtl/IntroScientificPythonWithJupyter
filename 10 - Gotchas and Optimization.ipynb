{
 "cells": [
  {
   "cell_type": "markdown",
   "metadata": {
    "deletable": true,
    "editable": true
   },
   "source": [
    "# Gotchas and Optimization\n",
    "\n",
    "Working with computers brings some occupational hazards, especially when things don't work the way one might expect. **These problems are not specific to python - they are fundamental challenges that come from using numbers in a computer.** \n",
    "\n",
    "There are also some non-obvious ways to significantly improve the performance of computations - this file examines some of these in more detail.\n",
    "\n",
    "By the end of this file you should have seen simple examples of:\n",
    "1. Unavoidable errors\n",
    "   - Floating point small remainders\n",
    "   - Floating point loss of precision\n",
    "   - Floating point catastrophic cancellation\n",
    "   - Integer overflow\n",
    "2. Optimization\n",
    "   - Vectorization\n",
    "\n",
    "\n",
    "\n",
    "\n",
    "\n",
    "Further reading:\n",
    "\n",
    "1. https://docs.scipy.org/doc/  \n",
    "2. http://docs.oracle.com/cd/E19957-01/806-3568/ncg_goldberg.html  \n",
    "3. https://docs.python.org/3/tutorial/floatingpoint.html  \n"
   ]
  },
  {
   "cell_type": "markdown",
   "metadata": {
    "deletable": true,
    "editable": true
   },
   "source": [
    "## Numbers in a Computer\n",
    "\n",
    "Information in a computer uses memory and storage, and due to emperical limitations in the size of these two resources, there is a finite amount of precision that is typically used. From the numpy documentation at https://docs.scipy.org/doc/numpy/user/basics.types.html, a variety of formats are available: \n",
    "\n",
    "`Data type \tDescription\n",
    "bool_ \tBoolean (True or False) stored as a byte\n",
    "int_ \tDefault integer type (same as C long; normally either int64 or int32)\n",
    "intc \tIdentical to C int (normally int32 or int64)\n",
    "intp \tInteger used for indexing (same as C ssize_t; normally either int32 or int64)\n",
    "int8 \tByte (-128 to 127)\n",
    "int16 \tInteger (-32768 to 32767)\n",
    "int32 \tInteger (-2147483648 to 2147483647)\n",
    "int64 \tInteger (-9223372036854775808 to 9223372036854775807)\n",
    "uint8 \tUnsigned integer (0 to 255)\n",
    "uint16 \tUnsigned integer (0 to 65535)\n",
    "uint32 \tUnsigned integer (0 to 4294967295)\n",
    "uint64 \tUnsigned integer (0 to 18446744073709551615)\n",
    "float_ \tShorthand for float64.\n",
    "float16 \tHalf precision float: sign bit, 5 bits exponent, 10 bits mantissa\n",
    "float32 \tSingle precision float: sign bit, 8 bits exponent, 23 bits mantissa\n",
    "float64 \tDouble precision float: sign bit, 11 bits exponent, 52 bits mantissa\n",
    "complex_ \tShorthand for complex128.\n",
    "complex64 \tComplex number, represented by two 32-bit floats (real and imaginary components)\n",
    "complex128 \tComplex number, represented by two 64-bit floats (real and imaginary components)`\n",
    "\n",
    "\n",
    "Note that for the `int` and `uint`, there's a fundamental limitation to the range of values available. **For example, `uint8` can only store integers from 0 to 255 - no other numbers can be used.** It uses less memory and/or storage to save a number than `uint16` or `uint32`.\n",
    "\n",
    "Floats are another common example - they store a number in scientific notation, and are useful for decimal numbers. **Often, floating point numbers are used for all calculations, but are not always needed, may occupy more memory than is needed, and can introduce errors into certain calculations.**\n",
    "\n"
   ]
  },
  {
   "cell_type": "code",
   "execution_count": 1,
   "metadata": {
    "collapsed": false,
    "deletable": true,
    "editable": true
   },
   "outputs": [],
   "source": [
    "import numpy as np\n",
    "import pandas as pd\n",
    "\n",
    "from matplotlib import pyplot as plt\n",
    "%matplotlib inline"
   ]
  },
  {
   "cell_type": "code",
   "execution_count": 2,
   "metadata": {
    "collapsed": false,
    "deletable": true,
    "editable": true
   },
   "outputs": [
    {
     "name": "stdout",
     "output_type": "stream",
     "text": [
      "Memory (bytes) used by the int8 is:  1\n",
      "Memory (bytes) used by the float is:  8\n"
     ]
    }
   ],
   "source": [
    "# The memory consumption of different types of variables can vary significantly:\n",
    "\n",
    "num_int = np.array(4, dtype='int8')\n",
    "print(\"Memory (bytes) used by the int8 is: \", num_int.nbytes)\n",
    "\n",
    "num_float = np.array(4, dtype='float')\n",
    "print(\"Memory (bytes) used by the float is: \", num_float.nbytes)"
   ]
  },
  {
   "cell_type": "markdown",
   "metadata": {
    "deletable": true,
    "editable": true
   },
   "source": [
    "Multiply these values by large matricies, and it becomes a bit more clear why some data types might be more practical than others for a given application."
   ]
  },
  {
   "cell_type": "markdown",
   "metadata": {
    "deletable": true,
    "editable": true
   },
   "source": [
    "## Unavoidable errors"
   ]
  },
  {
   "cell_type": "markdown",
   "metadata": {
    "deletable": true,
    "editable": true
   },
   "source": [
    "### Floating point errors: small remainders \n",
    "\n",
    "Frequently, the inablility to store a perfect number (i.e. 1/3, which has 0.333 repeating) leads to small bits leftover from calculations:"
   ]
  },
  {
   "cell_type": "code",
   "execution_count": 3,
   "metadata": {
    "collapsed": false,
    "deletable": true,
    "editable": true
   },
   "outputs": [
    {
     "name": "stdout",
     "output_type": "stream",
     "text": [
      "5.551115123125783e-17\n"
     ]
    }
   ],
   "source": [
    "var_1 = (0.1 + 0.1 + 0.1) - 0.3\n",
    "print(var_1)"
   ]
  },
  {
   "cell_type": "markdown",
   "metadata": {
    "deletable": true,
    "editable": true
   },
   "source": [
    "This comes up frequently when applying logic to floating point arythmic:"
   ]
  },
  {
   "cell_type": "code",
   "execution_count": 4,
   "metadata": {
    "collapsed": false,
    "deletable": true,
    "editable": true
   },
   "outputs": [
    {
     "data": {
      "text/plain": [
       "False"
      ]
     },
     "execution_count": 4,
     "metadata": {},
     "output_type": "execute_result"
    }
   ],
   "source": [
    "1 - 0.7 == 0.3"
   ]
  },
  {
   "cell_type": "markdown",
   "metadata": {
    "deletable": true,
    "editable": true
   },
   "source": [
    "Scaling the numbers can sometimes help. It's almost never a good idea to work in such small numeric ranges:"
   ]
  },
  {
   "cell_type": "code",
   "execution_count": 5,
   "metadata": {
    "collapsed": false,
    "deletable": true,
    "editable": true
   },
   "outputs": [
    {
     "data": {
      "text/plain": [
       "True"
      ]
     },
     "execution_count": 5,
     "metadata": {},
     "output_type": "execute_result"
    }
   ],
   "source": [
    "# Scaling can sometimes help:\n",
    "10 - 7 == 3"
   ]
  },
  {
   "cell_type": "markdown",
   "metadata": {
    "deletable": true,
    "editable": true
   },
   "source": [
    "### Floating point errors: loss of precision\n",
    "\n",
    "Some numbers simply can't be represented perfectly, so when two numbers of very different sizes are used, precision may be lost:"
   ]
  },
  {
   "cell_type": "code",
   "execution_count": 6,
   "metadata": {
    "collapsed": false,
    "deletable": true,
    "editable": true
   },
   "outputs": [
    {
     "name": "stdout",
     "output_type": "stream",
     "text": [
      "0.0\n"
     ]
    }
   ],
   "source": [
    "var1 = 1/3*10**18  # Start with a large number\n",
    "var2 = 1          \n",
    "var3 = var1+var2 # Add a small number\n",
    "\n",
    "\n",
    "print(var3 - var1)# When subtracted, smaller number is ignored"
   ]
  },
  {
   "cell_type": "markdown",
   "metadata": {
    "deletable": true,
    "editable": true
   },
   "source": [
    "### Floating point errors: catastrophic cancellation\n",
    "\n",
    "Frequently, when operations increase the relative error more than the absolute error, unexpected behavior can occur."
   ]
  },
  {
   "cell_type": "code",
   "execution_count": 7,
   "metadata": {
    "collapsed": false,
    "deletable": true,
    "editable": true
   },
   "outputs": [
    {
     "name": "stdout",
     "output_type": "stream",
     "text": [
      "1.11022302463e-16\n"
     ]
    }
   ],
   "source": [
    "var1 = np.array(0.9876543210987654)\n",
    "var2 = np.array(0.9876543210987653)\n",
    "\n",
    "var3 = var1 - var2\n",
    "print(var3)"
   ]
  },
  {
   "cell_type": "code",
   "execution_count": 8,
   "metadata": {
    "collapsed": false,
    "deletable": true,
    "editable": true
   },
   "outputs": [
    {
     "name": "stdout",
     "output_type": "stream",
     "text": [
      "The relative error is 11%\n"
     ]
    }
   ],
   "source": [
    "exp_val = 1e-16\n",
    "rel_error = (var3 - exp_val)/exp_val\n",
    "print(\"The relative error is {0:.2g}%\".format(rel_error*100))"
   ]
  },
  {
   "cell_type": "markdown",
   "metadata": {
    "deletable": true,
    "editable": true
   },
   "source": [
    "There are mathematical operations where this becomes significantly more problematic. While it may be possible to work around by avoiding the exact representation of those numbers, in general, different algorithms are needed for a solution.\n",
    "\n",
    "As an example, consider: the mathematically equivalent relations:\n",
    "\n",
    "$ y1(x) = 2^{-x} - \\frac{1}{1+2^x} $  \n",
    "and  \n",
    "$ y2(x) = \\frac{2^{-x}}{1+2^x} $  "
   ]
  },
  {
   "cell_type": "code",
   "execution_count": 9,
   "metadata": {
    "collapsed": false,
    "deletable": true,
    "editable": true
   },
   "outputs": [
    {
     "data": {
      "image/png": "[encoded data removed]",
      "text/plain": [
       "<matplotlib.figure.Figure at 0x145efb6a20>"
      ]
     },
     "metadata": {},
     "output_type": "display_data"
    }
   ],
   "source": [
    "X = np.linspace(1,300,300)\n",
    "y1 = 2**(-X)-1/(1+2**(X))\n",
    "y2 = 2**(-X)/(1+2**(X))\n",
    "\n",
    "# Plot\n",
    "plt.semilogy(X,y2, label='y1 (subtraction)')\n",
    "plt.semilogy(X,y1, label='y2 (division)')\n",
    "plt.ylim(1e-122, y1.max())\n",
    "plt.legend(loc='best')\n",
    "plt.show()"
   ]
  },
  {
   "cell_type": "markdown",
   "metadata": {
    "deletable": true,
    "editable": true
   },
   "source": [
    "Here, it can be shown that the subtraction is a catastrophic cancellation, while the multiplication doesn't suffer the same fate. Using:\n",
    "\n",
    "$ a = 2^{-x} $  \n",
    "and   \n",
    "$ b = \\frac{1}{1+2^x} $  \n",
    "\n",
    "We can compare the two different operations as:  \n",
    "$ y1(x) = a - b $  \n",
    "$ y2(x) = \\frac{a}{b}$   "
   ]
  },
  {
   "cell_type": "code",
   "execution_count": 10,
   "metadata": {
    "collapsed": false,
    "deletable": true,
    "editable": true
   },
   "outputs": [
    {
     "name": "stdout",
     "output_type": "stream",
     "text": [
      "a ( 2^-x ) for x = 53 is: 5.551115123125783e-17\n",
      "b ( 1/(1+2^x) ) for x = 53 is: 5.551115123125783e-17\n"
     ]
    }
   ],
   "source": [
    "# Using the 53rd index (53) as a point to check the difference:\n",
    "a = 2**(-X[53])\n",
    "print(\"a ( 2^-x ) for x = 53 is: {}\".format(a))\n",
    "b = 1/(1+2**(X[53]))\n",
    "print(\"b ( 1/(1+2^x) ) for x = 53 is: {}\".format(b))"
   ]
  },
  {
   "cell_type": "markdown",
   "metadata": {
    "deletable": true,
    "editable": true
   },
   "source": [
    "The subtraction of the two similar numbers gives a zero result, resulting in a significant loss in precision (i.e. absolute error of infinity)."
   ]
  },
  {
   "cell_type": "markdown",
   "metadata": {
    "deletable": true,
    "editable": true
   },
   "source": [
    "## Integer Overflow\n",
    "\n",
    "When using integers in the python scientific stack (numpy, pandas), it is possible for a simple arithmetic to cause the values to 'wrap around' or become negative."
   ]
  },
  {
   "cell_type": "code",
   "execution_count": 11,
   "metadata": {
    "collapsed": false,
    "deletable": true,
    "editable": true
   },
   "outputs": [
    {
     "name": "stdout",
     "output_type": "stream",
     "text": [
      "9223372036854775807\n",
      "9223372036854775807\n"
     ]
    }
   ],
   "source": [
    "x = 2**63 - 1\n",
    "x_np = np.array(x)  # numpy automatically assigns to 'int64'\n",
    "x_pd = pd.Series(x) # pandas automatically assigns to 'int64'\n",
    "print(x_np)\n",
    "print(x_pd[0])"
   ]
  },
  {
   "cell_type": "markdown",
   "metadata": {
    "deletable": true,
    "editable": true
   },
   "source": [
    "If we add one to the sum, we can get pretty different results when using the python scientific stack (numpy, pandas):"
   ]
  },
  {
   "cell_type": "code",
   "execution_count": 12,
   "metadata": {
    "collapsed": false,
    "deletable": true,
    "editable": true
   },
   "outputs": [
    {
     "name": "stdout",
     "output_type": "stream",
     "text": [
      "The python sum is:   9223372036854775808\n",
      "The numpy sum is:    -9223372036854775808\n",
      "The pandas sum is:   -9223372036854775808\n"
     ]
    },
    {
     "name": "stderr",
     "output_type": "stream",
     "text": [
      "C:\\Anaconda3\\envs\\intro_sci_python\\lib\\site-packages\\ipykernel\\__main__.py:3: RuntimeWarning: overflow encountered in longlong_scalars\n",
      "  app.launch_new_instance()\n"
     ]
    }
   ],
   "source": [
    "print(\"The python sum is:  \", x+1)\n",
    "print(\"The numpy sum is:   \", x_np+1)\n",
    "print(\"The pandas sum is:  \", x_pd[0]+1)\n"
   ]
  },
  {
   "cell_type": "markdown",
   "metadata": {
    "deletable": true,
    "editable": true
   },
   "source": [
    "Python integers have arbitrary precision, so the integer sum comes out as expected. **In the scientific python stack, the C-style fixed-precision integers actually wrap around to negative numbers when increased.**"
   ]
  },
  {
   "cell_type": "markdown",
   "metadata": {
    "deletable": true,
    "editable": true
   },
   "source": [
    "# Optimization"
   ]
  },
  {
   "cell_type": "markdown",
   "metadata": {
    "deletable": true,
    "editable": true
   },
   "source": [
    "### Vectorization\n",
    "\n",
    "For calculations that involve many steps, often a specific step is repeated. Often, this can be reformulated in a way that computers can do far more efficintly - via matrix math. **Reformulating a computation from element-wise operations to array operations is known as vectorization.**"
   ]
  },
  {
   "cell_type": "code",
   "execution_count": 13,
   "metadata": {
    "collapsed": false,
    "deletable": true,
    "editable": true
   },
   "outputs": [
    {
     "name": "stdout",
     "output_type": "stream",
     "text": [
      "100 loops, best of 3: 4.48 ms per loop\n"
     ]
    }
   ],
   "source": [
    "randArr = np.random.rand(10000)\n",
    "\n",
    "def scaleLoop(array): # For loop goes through each element and adds one\n",
    "    for i in range(len(array)):\n",
    "        array[i] = array[i]+1\n",
    "    return array\n",
    "\n",
    "%timeit forloopsum = scaleLoop(randArr)"
   ]
  },
  {
   "cell_type": "code",
   "execution_count": 14,
   "metadata": {
    "collapsed": false,
    "deletable": true,
    "editable": true
   },
   "outputs": [
    {
     "name": "stdout",
     "output_type": "stream",
     "text": [
      "The slowest run took 22.92 times longer than the fastest. This could mean that an intermediate result is being cached.\n",
      "100000 loops, best of 3: 7.34 µs per loop\n"
     ]
    }
   ],
   "source": [
    "%timeit vectorsum = randArr + 1 # Numpy was written to perform vectorized operations"
   ]
  },
  {
   "cell_type": "markdown",
   "metadata": {
    "deletable": true,
    "editable": true
   },
   "source": [
    "The difference is more than an order of magnitude, although the milage may vary depending on the computer."
   ]
  }
 ],
 "metadata": {
  "kernelspec": {
   "display_name": "Python 3",
   "language": "python",
   "name": "python3"
  },
  "language_info": {
   "codemirror_mode": {
    "name": "ipython",
    "version": 3
   },
   "file_extension": ".py",
   "mimetype": "text/x-python",
   "name": "python",
   "nbconvert_exporter": "python",
   "pygments_lexer": "ipython3",
   "version": "3.6.1"
  }
 },
 "nbformat": 4,
 "nbformat_minor": 2
}
